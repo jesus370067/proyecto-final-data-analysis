{
 "cells": [
  {
   "cell_type": "markdown",
   "id": "7b2cfc99-60ae-4966-8506-f6858d975639",
   "metadata": {},
   "source": [
    "  # Analisis de datos en trabajadores activos"
   ]
  },
  {
   "cell_type": "markdown",
   "id": "dc65568e-5a93-4750-a997-83f854c7ad89",
   "metadata": {},
   "source": [
    "Este análisis es para ver como esta distribuido la población de trabajadores que cotizan para el issste y en que intervalo de edad esta \n",
    "concentrado y poner énfasis en el desarrollo de programas de atencion medica para este grupo de edad. "
   ]
  },
  {
   "cell_type": "code",
   "execution_count": 1,
   "id": "89a4090d-2064-4ecb-b3b6-5529b8e51647",
   "metadata": {},
   "outputs": [],
   "source": [
    "from scipy import stats\n",
    "import pandas as pd\n",
    "import seaborn as sns\n",
    "import mysql.connector\n",
    "import matplotlib.pyplot as plt\n",
    "import datetime as dt"
   ]
  },
  {
   "cell_type": "markdown",
   "id": "073e6bb4-eeda-4b68-8ac8-d4d7d459617f",
   "metadata": {},
   "source": [
    "### Primera parte. Adquisicion del dataset"
   ]
  },
  {
   "cell_type": "markdown",
   "id": "4f135d5b-5c81-4d40-918b-d2f9ab52caca",
   "metadata": {},
   "source": [
    "Procedemos a conectarnos a la base de datos:"
   ]
  },
  {
   "cell_type": "code",
   "execution_count": 2,
   "id": "99db8024-788b-4e0d-bbe7-87185f8bdc01",
   "metadata": {},
   "outputs": [],
   "source": [
    "cnx = mysql.connector.connect(\n",
    "    host=\"localhost\",\n",
    "    port=3306,\n",
    "    user=\"root\",\n",
    "    password=\"******\",\n",
    "    database=\"fuentes_brot\"\n",
    ")"
   ]
  },
  {
   "cell_type": "code",
   "execution_count": 3,
   "id": "ef30702d-8952-4e4e-ab6f-db07e6cd94f7",
   "metadata": {},
   "outputs": [],
   "source": [
    "cursor = cnx.cursor()"
   ]
  },
  {
   "cell_type": "markdown",
   "id": "47cf6641-5bfd-4360-a962-f239e24c21f9",
   "metadata": {},
   "source": [
    "Y vemos que tablas contiene:"
   ]
  },
  {
   "cell_type": "code",
   "execution_count": 4,
   "id": "c913f4c9-3314-4c86-ac86-b29aba6992a2",
   "metadata": {},
   "outputs": [
    {
     "data": {
      "text/html": [
       "<div>\n",
       "<style scoped>\n",
       "    .dataframe tbody tr th:only-of-type {\n",
       "        vertical-align: middle;\n",
       "    }\n",
       "\n",
       "    .dataframe tbody tr th {\n",
       "        vertical-align: top;\n",
       "    }\n",
       "\n",
       "    .dataframe thead th {\n",
       "        text-align: right;\n",
       "    }\n",
       "</style>\n",
       "<table border=\"1\" class=\"dataframe\">\n",
       "  <thead>\n",
       "    <tr style=\"text-align: right;\">\n",
       "      <th></th>\n",
       "      <th>Tables_in_fuentes_brot</th>\n",
       "    </tr>\n",
       "  </thead>\n",
       "  <tbody>\n",
       "    <tr>\n",
       "      <th>0</th>\n",
       "      <td>beneficiarios</td>\n",
       "    </tr>\n",
       "    <tr>\n",
       "      <th>1</th>\n",
       "      <td>titular</td>\n",
       "    </tr>\n",
       "    <tr>\n",
       "      <th>2</th>\n",
       "      <td>titulares_fb</td>\n",
       "    </tr>\n",
       "  </tbody>\n",
       "</table>\n",
       "</div>"
      ],
      "text/plain": [
       "  Tables_in_fuentes_brot\n",
       "0          beneficiarios\n",
       "1                titular\n",
       "2           titulares_fb"
      ]
     },
     "execution_count": 4,
     "metadata": {},
     "output_type": "execute_result"
    }
   ],
   "source": [
    "pd.read_sql_query(\"show tables\", cnx)"
   ]
  },
  {
   "cell_type": "markdown",
   "id": "ff4ca408-cefd-4566-83d9-6191f74af505",
   "metadata": {},
   "source": [
    "Seleccionamos la de \"titulares_fb que es la que nos interesa y procedemos a ver el contenido:"
   ]
  },
  {
   "cell_type": "code",
   "execution_count": 5,
   "id": "be95c5e3-dd2f-44ea-890f-37018f25be16",
   "metadata": {},
   "outputs": [
    {
     "data": {
      "text/html": [
       "<div>\n",
       "<style scoped>\n",
       "    .dataframe tbody tr th:only-of-type {\n",
       "        vertical-align: middle;\n",
       "    }\n",
       "\n",
       "    .dataframe tbody tr th {\n",
       "        vertical-align: top;\n",
       "    }\n",
       "\n",
       "    .dataframe thead th {\n",
       "        text-align: right;\n",
       "    }\n",
       "</style>\n",
       "<table border=\"1\" class=\"dataframe\">\n",
       "  <thead>\n",
       "    <tr style=\"text-align: right;\">\n",
       "      <th></th>\n",
       "      <th>CAP</th>\n",
       "      <th>FECHA_NACIMIENTO</th>\n",
       "      <th>APELLIDO_PATERNO</th>\n",
       "      <th>APELLIDO_MATERNO</th>\n",
       "      <th>NOMBRE</th>\n",
       "      <th>GENERO</th>\n",
       "      <th>TIPO_DE_DIRECTO</th>\n",
       "      <th>RAMO1</th>\n",
       "      <th>REGIMEN</th>\n",
       "      <th>ESTATUS</th>\n",
       "      <th>BENEFICIARIOS_REG</th>\n",
       "    </tr>\n",
       "  </thead>\n",
       "  <tbody>\n",
       "    <tr>\n",
       "      <th>0</th>\n",
       "      <td>NO</td>\n",
       "      <td>1961-09-10</td>\n",
       "      <td>ALVARADO</td>\n",
       "      <td>AMADOR</td>\n",
       "      <td>MARIA ALEJANDRA</td>\n",
       "      <td>MUJER</td>\n",
       "      <td>TRABAJADOR</td>\n",
       "      <td>N/A</td>\n",
       "      <td>DECIMO TRANSITORIO</td>\n",
       "      <td>INACTIVO</td>\n",
       "      <td>4</td>\n",
       "    </tr>\n",
       "    <tr>\n",
       "      <th>1</th>\n",
       "      <td>NO</td>\n",
       "      <td>1963-10-03</td>\n",
       "      <td>AMADO</td>\n",
       "      <td>AVILA</td>\n",
       "      <td>ARACELI</td>\n",
       "      <td>MUJER</td>\n",
       "      <td>PENSIONISTA</td>\n",
       "      <td>PENSIONISTAS Y JUBILADOS CON CARGO AL I.S.S.S....</td>\n",
       "      <td>DECIMO TRANSITORIO</td>\n",
       "      <td>VIGENTE</td>\n",
       "      <td>2</td>\n",
       "    </tr>\n",
       "    <tr>\n",
       "      <th>2</th>\n",
       "      <td>NO</td>\n",
       "      <td>1981-07-28</td>\n",
       "      <td>ANAYA</td>\n",
       "      <td>ALVAREZ</td>\n",
       "      <td>AARON</td>\n",
       "      <td>HOMBRE</td>\n",
       "      <td>TRABAJADOR</td>\n",
       "      <td>ISSSTE</td>\n",
       "      <td>CUENTA INDIVIDUAL</td>\n",
       "      <td>VIGENTE</td>\n",
       "      <td>0</td>\n",
       "    </tr>\n",
       "    <tr>\n",
       "      <th>3</th>\n",
       "      <td>NO</td>\n",
       "      <td>1943-05-28</td>\n",
       "      <td>ALBA</td>\n",
       "      <td>ALDAVE</td>\n",
       "      <td>MARIA CRISTINA</td>\n",
       "      <td>MUJER</td>\n",
       "      <td>PENSIONISTA</td>\n",
       "      <td>PENSIONISTAS Y JUBILADOS CON CARGO AL I.S.S.S....</td>\n",
       "      <td>DECIMO TRANSITORIO</td>\n",
       "      <td>VIGENTE</td>\n",
       "      <td>1</td>\n",
       "    </tr>\n",
       "    <tr>\n",
       "      <th>4</th>\n",
       "      <td>NO</td>\n",
       "      <td>1946-04-25</td>\n",
       "      <td>ARANDA</td>\n",
       "      <td>ARANDA</td>\n",
       "      <td>CLARA EUGENIA</td>\n",
       "      <td>MUJER</td>\n",
       "      <td>PENSIONISTA</td>\n",
       "      <td>PENSIONISTAS Y JUBILADOS CON CARGO AL I.S.S.S....</td>\n",
       "      <td>DECIMO TRANSITORIO</td>\n",
       "      <td>VIGENTE</td>\n",
       "      <td>0</td>\n",
       "    </tr>\n",
       "    <tr>\n",
       "      <th>...</th>\n",
       "      <td>...</td>\n",
       "      <td>...</td>\n",
       "      <td>...</td>\n",
       "      <td>...</td>\n",
       "      <td>...</td>\n",
       "      <td>...</td>\n",
       "      <td>...</td>\n",
       "      <td>...</td>\n",
       "      <td>...</td>\n",
       "      <td>...</td>\n",
       "      <td>...</td>\n",
       "    </tr>\n",
       "    <tr>\n",
       "      <th>418</th>\n",
       "      <td>NO</td>\n",
       "      <td>1963-12-02</td>\n",
       "      <td>ZUÑIGA</td>\n",
       "      <td>SANCHEZ</td>\n",
       "      <td>MARIBEL</td>\n",
       "      <td>MUJER</td>\n",
       "      <td>TRABAJADOR</td>\n",
       "      <td>GOBIERNO DEL DISTRITO FEDERAL (G.D.F.)</td>\n",
       "      <td>CUENTA INDIVIDUAL</td>\n",
       "      <td>VIGENTE</td>\n",
       "      <td>2</td>\n",
       "    </tr>\n",
       "    <tr>\n",
       "      <th>419</th>\n",
       "      <td>NO</td>\n",
       "      <td>1981-06-01</td>\n",
       "      <td>ZUÑIGA</td>\n",
       "      <td>SANTIAGO</td>\n",
       "      <td>ZAYDA NELSY</td>\n",
       "      <td>MUJER</td>\n",
       "      <td>TRABAJADOR</td>\n",
       "      <td>N/A</td>\n",
       "      <td>CUENTA INDIVIDUAL</td>\n",
       "      <td>INACTIVO</td>\n",
       "      <td>0</td>\n",
       "    </tr>\n",
       "    <tr>\n",
       "      <th>420</th>\n",
       "      <td>NO</td>\n",
       "      <td>1983-11-04</td>\n",
       "      <td>ZUÑIGA</td>\n",
       "      <td>TORRES</td>\n",
       "      <td>SILVIA</td>\n",
       "      <td>MUJER</td>\n",
       "      <td>TRABAJADOR</td>\n",
       "      <td>N/A</td>\n",
       "      <td>CUENTA INDIVIDUAL</td>\n",
       "      <td>INACTIVO</td>\n",
       "      <td>0</td>\n",
       "    </tr>\n",
       "    <tr>\n",
       "      <th>421</th>\n",
       "      <td>NO</td>\n",
       "      <td>1946-07-17</td>\n",
       "      <td>ZUÑIGA</td>\n",
       "      <td>VAZQUEZ</td>\n",
       "      <td>JORGE MIGUEL</td>\n",
       "      <td>HOMBRE</td>\n",
       "      <td>TRABAJADOR</td>\n",
       "      <td>SECRETARIA DE COMUNICACIONES  Y TRANSPORTES (SCT)</td>\n",
       "      <td>CUENTA INDIVIDUAL</td>\n",
       "      <td>VIGENTE</td>\n",
       "      <td>0</td>\n",
       "    </tr>\n",
       "    <tr>\n",
       "      <th>422</th>\n",
       "      <td>NO</td>\n",
       "      <td>1947-05-25</td>\n",
       "      <td>ZUÑIGA</td>\n",
       "      <td>ZUÑIGA</td>\n",
       "      <td>BASILIO</td>\n",
       "      <td>HOMBRE</td>\n",
       "      <td>TRABAJADOR</td>\n",
       "      <td>PENS. Y JUB. DE LA CAJA DE PREV. DE LA POLICIA...</td>\n",
       "      <td>NO DISPONIBLE</td>\n",
       "      <td>VIGENTE</td>\n",
       "      <td>4</td>\n",
       "    </tr>\n",
       "  </tbody>\n",
       "</table>\n",
       "<p>423 rows × 11 columns</p>\n",
       "</div>"
      ],
      "text/plain": [
       "    CAP FECHA_NACIMIENTO APELLIDO_PATERNO APELLIDO_MATERNO           NOMBRE  \\\n",
       "0    NO       1961-09-10         ALVARADO           AMADOR  MARIA ALEJANDRA   \n",
       "1    NO       1963-10-03            AMADO            AVILA          ARACELI   \n",
       "2    NO       1981-07-28            ANAYA          ALVAREZ            AARON   \n",
       "3    NO       1943-05-28             ALBA           ALDAVE   MARIA CRISTINA   \n",
       "4    NO       1946-04-25           ARANDA           ARANDA    CLARA EUGENIA   \n",
       "..   ..              ...              ...              ...              ...   \n",
       "418  NO       1963-12-02           ZUÑIGA          SANCHEZ          MARIBEL   \n",
       "419  NO       1981-06-01           ZUÑIGA         SANTIAGO      ZAYDA NELSY   \n",
       "420  NO       1983-11-04           ZUÑIGA           TORRES           SILVIA   \n",
       "421  NO       1946-07-17           ZUÑIGA          VAZQUEZ     JORGE MIGUEL   \n",
       "422  NO       1947-05-25           ZUÑIGA           ZUÑIGA          BASILIO   \n",
       "\n",
       "     GENERO TIPO_DE_DIRECTO  \\\n",
       "0     MUJER      TRABAJADOR   \n",
       "1     MUJER     PENSIONISTA   \n",
       "2    HOMBRE      TRABAJADOR   \n",
       "3     MUJER     PENSIONISTA   \n",
       "4     MUJER     PENSIONISTA   \n",
       "..      ...             ...   \n",
       "418   MUJER      TRABAJADOR   \n",
       "419   MUJER      TRABAJADOR   \n",
       "420   MUJER      TRABAJADOR   \n",
       "421  HOMBRE      TRABAJADOR   \n",
       "422  HOMBRE      TRABAJADOR   \n",
       "\n",
       "                                                 RAMO1             REGIMEN  \\\n",
       "0                                                  N/A  DECIMO TRANSITORIO   \n",
       "1    PENSIONISTAS Y JUBILADOS CON CARGO AL I.S.S.S....  DECIMO TRANSITORIO   \n",
       "2                                               ISSSTE   CUENTA INDIVIDUAL   \n",
       "3    PENSIONISTAS Y JUBILADOS CON CARGO AL I.S.S.S....  DECIMO TRANSITORIO   \n",
       "4    PENSIONISTAS Y JUBILADOS CON CARGO AL I.S.S.S....  DECIMO TRANSITORIO   \n",
       "..                                                 ...                 ...   \n",
       "418             GOBIERNO DEL DISTRITO FEDERAL (G.D.F.)   CUENTA INDIVIDUAL   \n",
       "419                                                N/A   CUENTA INDIVIDUAL   \n",
       "420                                                N/A   CUENTA INDIVIDUAL   \n",
       "421  SECRETARIA DE COMUNICACIONES  Y TRANSPORTES (SCT)   CUENTA INDIVIDUAL   \n",
       "422  PENS. Y JUB. DE LA CAJA DE PREV. DE LA POLICIA...       NO DISPONIBLE   \n",
       "\n",
       "      ESTATUS  BENEFICIARIOS_REG  \n",
       "0    INACTIVO                  4  \n",
       "1     VIGENTE                  2  \n",
       "2     VIGENTE                  0  \n",
       "3     VIGENTE                  1  \n",
       "4     VIGENTE                  0  \n",
       "..        ...                ...  \n",
       "418   VIGENTE                  2  \n",
       "419  INACTIVO                  0  \n",
       "420  INACTIVO                  0  \n",
       "421   VIGENTE                  0  \n",
       "422   VIGENTE                  4  \n",
       "\n",
       "[423 rows x 11 columns]"
      ]
     },
     "execution_count": 5,
     "metadata": {},
     "output_type": "execute_result"
    }
   ],
   "source": [
    "df = pd.read_sql_query(\"SELECT CAP, FECHA_NACIMIENTO, APELLIDO_PATERNO, APELLIDO_MATERNO, NOMBRE, GENERO, TIPO_DE_DIRECTO, RAMO1, REGIMEN, ESTATUS, BENEFICIARIOS_REG from titulares_fb\", cnx)\n",
    "df"
   ]
  },
  {
   "cell_type": "markdown",
   "id": "c2292a53-c4c4-4c01-9e81-e102cc854bd7",
   "metadata": {},
   "source": [
    "Se genera dataframe llamado \"titulares_fb.csv\" y se cierra conexion:"
   ]
  },
  {
   "cell_type": "code",
   "execution_count": 6,
   "id": "a665c77b-4cda-4971-b11d-40ad21737dc1",
   "metadata": {},
   "outputs": [],
   "source": [
    "df.to_csv('c:/users/dell/Documents/data analysis/modulo4/proyecto final1/titulares_fb.csv')"
   ]
  },
  {
   "cell_type": "code",
   "execution_count": 7,
   "id": "c5256762-d4b6-4828-80d1-2a5a75350b5c",
   "metadata": {},
   "outputs": [
    {
     "data": {
      "text/plain": [
       "True"
      ]
     },
     "execution_count": 7,
     "metadata": {},
     "output_type": "execute_result"
    }
   ],
   "source": [
    "cursor.close()"
   ]
  },
  {
   "cell_type": "markdown",
   "id": "f1544f39-7a7f-46fe-aa4a-d209cb55a8c4",
   "metadata": {},
   "source": [
    "## Segunda parte. Procesamiento de datos"
   ]
  },
  {
   "cell_type": "markdown",
   "id": "7405db5b-9b29-4727-8962-136e8cecd090",
   "metadata": {},
   "source": [
    "Teniendo el dataset con el que se va a trabajar se inicia con el procesamiento. Lo primero que se hace es abrir el dataset:"
   ]
  },
  {
   "cell_type": "code",
   "execution_count": 8,
   "id": "4543a17f-c090-4720-a436-06782af4628b",
   "metadata": {},
   "outputs": [
    {
     "data": {
      "text/html": [
       "<div>\n",
       "<style scoped>\n",
       "    .dataframe tbody tr th:only-of-type {\n",
       "        vertical-align: middle;\n",
       "    }\n",
       "\n",
       "    .dataframe tbody tr th {\n",
       "        vertical-align: top;\n",
       "    }\n",
       "\n",
       "    .dataframe thead th {\n",
       "        text-align: right;\n",
       "    }\n",
       "</style>\n",
       "<table border=\"1\" class=\"dataframe\">\n",
       "  <thead>\n",
       "    <tr style=\"text-align: right;\">\n",
       "      <th></th>\n",
       "      <th>Unnamed: 0</th>\n",
       "      <th>CAP</th>\n",
       "      <th>FECHA_NACIMIENTO</th>\n",
       "      <th>APELLIDO_PATERNO</th>\n",
       "      <th>APELLIDO_MATERNO</th>\n",
       "      <th>NOMBRE</th>\n",
       "      <th>GENERO</th>\n",
       "      <th>TIPO_DE_DIRECTO</th>\n",
       "      <th>RAMO1</th>\n",
       "      <th>REGIMEN</th>\n",
       "      <th>ESTATUS</th>\n",
       "      <th>BENEFICIARIOS_REG</th>\n",
       "    </tr>\n",
       "  </thead>\n",
       "  <tbody>\n",
       "    <tr>\n",
       "      <th>0</th>\n",
       "      <td>0</td>\n",
       "      <td>NO</td>\n",
       "      <td>1961-09-10</td>\n",
       "      <td>ALVARADO</td>\n",
       "      <td>AMADOR</td>\n",
       "      <td>MARIA ALEJANDRA</td>\n",
       "      <td>MUJER</td>\n",
       "      <td>TRABAJADOR</td>\n",
       "      <td>NaN</td>\n",
       "      <td>DECIMO TRANSITORIO</td>\n",
       "      <td>INACTIVO</td>\n",
       "      <td>4</td>\n",
       "    </tr>\n",
       "    <tr>\n",
       "      <th>1</th>\n",
       "      <td>1</td>\n",
       "      <td>NO</td>\n",
       "      <td>1963-10-03</td>\n",
       "      <td>AMADO</td>\n",
       "      <td>AVILA</td>\n",
       "      <td>ARACELI</td>\n",
       "      <td>MUJER</td>\n",
       "      <td>PENSIONISTA</td>\n",
       "      <td>PENSIONISTAS Y JUBILADOS CON CARGO AL I.S.S.S....</td>\n",
       "      <td>DECIMO TRANSITORIO</td>\n",
       "      <td>VIGENTE</td>\n",
       "      <td>2</td>\n",
       "    </tr>\n",
       "    <tr>\n",
       "      <th>2</th>\n",
       "      <td>2</td>\n",
       "      <td>NO</td>\n",
       "      <td>1981-07-28</td>\n",
       "      <td>ANAYA</td>\n",
       "      <td>ALVAREZ</td>\n",
       "      <td>AARON</td>\n",
       "      <td>HOMBRE</td>\n",
       "      <td>TRABAJADOR</td>\n",
       "      <td>ISSSTE</td>\n",
       "      <td>CUENTA INDIVIDUAL</td>\n",
       "      <td>VIGENTE</td>\n",
       "      <td>0</td>\n",
       "    </tr>\n",
       "    <tr>\n",
       "      <th>3</th>\n",
       "      <td>3</td>\n",
       "      <td>NO</td>\n",
       "      <td>1943-05-28</td>\n",
       "      <td>ALBA</td>\n",
       "      <td>ALDAVE</td>\n",
       "      <td>MARIA CRISTINA</td>\n",
       "      <td>MUJER</td>\n",
       "      <td>PENSIONISTA</td>\n",
       "      <td>PENSIONISTAS Y JUBILADOS CON CARGO AL I.S.S.S....</td>\n",
       "      <td>DECIMO TRANSITORIO</td>\n",
       "      <td>VIGENTE</td>\n",
       "      <td>1</td>\n",
       "    </tr>\n",
       "    <tr>\n",
       "      <th>4</th>\n",
       "      <td>4</td>\n",
       "      <td>NO</td>\n",
       "      <td>1946-04-25</td>\n",
       "      <td>ARANDA</td>\n",
       "      <td>ARANDA</td>\n",
       "      <td>CLARA EUGENIA</td>\n",
       "      <td>MUJER</td>\n",
       "      <td>PENSIONISTA</td>\n",
       "      <td>PENSIONISTAS Y JUBILADOS CON CARGO AL I.S.S.S....</td>\n",
       "      <td>DECIMO TRANSITORIO</td>\n",
       "      <td>VIGENTE</td>\n",
       "      <td>0</td>\n",
       "    </tr>\n",
       "    <tr>\n",
       "      <th>...</th>\n",
       "      <td>...</td>\n",
       "      <td>...</td>\n",
       "      <td>...</td>\n",
       "      <td>...</td>\n",
       "      <td>...</td>\n",
       "      <td>...</td>\n",
       "      <td>...</td>\n",
       "      <td>...</td>\n",
       "      <td>...</td>\n",
       "      <td>...</td>\n",
       "      <td>...</td>\n",
       "      <td>...</td>\n",
       "    </tr>\n",
       "    <tr>\n",
       "      <th>418</th>\n",
       "      <td>418</td>\n",
       "      <td>NO</td>\n",
       "      <td>1963-12-02</td>\n",
       "      <td>ZUÑIGA</td>\n",
       "      <td>SANCHEZ</td>\n",
       "      <td>MARIBEL</td>\n",
       "      <td>MUJER</td>\n",
       "      <td>TRABAJADOR</td>\n",
       "      <td>GOBIERNO DEL DISTRITO FEDERAL (G.D.F.)</td>\n",
       "      <td>CUENTA INDIVIDUAL</td>\n",
       "      <td>VIGENTE</td>\n",
       "      <td>2</td>\n",
       "    </tr>\n",
       "    <tr>\n",
       "      <th>419</th>\n",
       "      <td>419</td>\n",
       "      <td>NO</td>\n",
       "      <td>1981-06-01</td>\n",
       "      <td>ZUÑIGA</td>\n",
       "      <td>SANTIAGO</td>\n",
       "      <td>ZAYDA NELSY</td>\n",
       "      <td>MUJER</td>\n",
       "      <td>TRABAJADOR</td>\n",
       "      <td>NaN</td>\n",
       "      <td>CUENTA INDIVIDUAL</td>\n",
       "      <td>INACTIVO</td>\n",
       "      <td>0</td>\n",
       "    </tr>\n",
       "    <tr>\n",
       "      <th>420</th>\n",
       "      <td>420</td>\n",
       "      <td>NO</td>\n",
       "      <td>1983-11-04</td>\n",
       "      <td>ZUÑIGA</td>\n",
       "      <td>TORRES</td>\n",
       "      <td>SILVIA</td>\n",
       "      <td>MUJER</td>\n",
       "      <td>TRABAJADOR</td>\n",
       "      <td>NaN</td>\n",
       "      <td>CUENTA INDIVIDUAL</td>\n",
       "      <td>INACTIVO</td>\n",
       "      <td>0</td>\n",
       "    </tr>\n",
       "    <tr>\n",
       "      <th>421</th>\n",
       "      <td>421</td>\n",
       "      <td>NO</td>\n",
       "      <td>1946-07-17</td>\n",
       "      <td>ZUÑIGA</td>\n",
       "      <td>VAZQUEZ</td>\n",
       "      <td>JORGE MIGUEL</td>\n",
       "      <td>HOMBRE</td>\n",
       "      <td>TRABAJADOR</td>\n",
       "      <td>SECRETARIA DE COMUNICACIONES  Y TRANSPORTES (SCT)</td>\n",
       "      <td>CUENTA INDIVIDUAL</td>\n",
       "      <td>VIGENTE</td>\n",
       "      <td>0</td>\n",
       "    </tr>\n",
       "    <tr>\n",
       "      <th>422</th>\n",
       "      <td>422</td>\n",
       "      <td>NO</td>\n",
       "      <td>1947-05-25</td>\n",
       "      <td>ZUÑIGA</td>\n",
       "      <td>ZUÑIGA</td>\n",
       "      <td>BASILIO</td>\n",
       "      <td>HOMBRE</td>\n",
       "      <td>TRABAJADOR</td>\n",
       "      <td>PENS. Y JUB. DE LA CAJA DE PREV. DE LA POLICIA...</td>\n",
       "      <td>NO DISPONIBLE</td>\n",
       "      <td>VIGENTE</td>\n",
       "      <td>4</td>\n",
       "    </tr>\n",
       "  </tbody>\n",
       "</table>\n",
       "<p>423 rows × 12 columns</p>\n",
       "</div>"
      ],
      "text/plain": [
       "     Unnamed: 0 CAP FECHA_NACIMIENTO APELLIDO_PATERNO APELLIDO_MATERNO  \\\n",
       "0             0  NO       1961-09-10         ALVARADO           AMADOR   \n",
       "1             1  NO       1963-10-03            AMADO            AVILA   \n",
       "2             2  NO       1981-07-28            ANAYA          ALVAREZ   \n",
       "3             3  NO       1943-05-28             ALBA           ALDAVE   \n",
       "4             4  NO       1946-04-25           ARANDA           ARANDA   \n",
       "..          ...  ..              ...              ...              ...   \n",
       "418         418  NO       1963-12-02           ZUÑIGA          SANCHEZ   \n",
       "419         419  NO       1981-06-01           ZUÑIGA         SANTIAGO   \n",
       "420         420  NO       1983-11-04           ZUÑIGA           TORRES   \n",
       "421         421  NO       1946-07-17           ZUÑIGA          VAZQUEZ   \n",
       "422         422  NO       1947-05-25           ZUÑIGA           ZUÑIGA   \n",
       "\n",
       "              NOMBRE  GENERO TIPO_DE_DIRECTO  \\\n",
       "0    MARIA ALEJANDRA   MUJER      TRABAJADOR   \n",
       "1            ARACELI   MUJER     PENSIONISTA   \n",
       "2              AARON  HOMBRE      TRABAJADOR   \n",
       "3     MARIA CRISTINA   MUJER     PENSIONISTA   \n",
       "4      CLARA EUGENIA   MUJER     PENSIONISTA   \n",
       "..               ...     ...             ...   \n",
       "418          MARIBEL   MUJER      TRABAJADOR   \n",
       "419      ZAYDA NELSY   MUJER      TRABAJADOR   \n",
       "420           SILVIA   MUJER      TRABAJADOR   \n",
       "421     JORGE MIGUEL  HOMBRE      TRABAJADOR   \n",
       "422          BASILIO  HOMBRE      TRABAJADOR   \n",
       "\n",
       "                                                 RAMO1             REGIMEN  \\\n",
       "0                                                  NaN  DECIMO TRANSITORIO   \n",
       "1    PENSIONISTAS Y JUBILADOS CON CARGO AL I.S.S.S....  DECIMO TRANSITORIO   \n",
       "2                                               ISSSTE   CUENTA INDIVIDUAL   \n",
       "3    PENSIONISTAS Y JUBILADOS CON CARGO AL I.S.S.S....  DECIMO TRANSITORIO   \n",
       "4    PENSIONISTAS Y JUBILADOS CON CARGO AL I.S.S.S....  DECIMO TRANSITORIO   \n",
       "..                                                 ...                 ...   \n",
       "418             GOBIERNO DEL DISTRITO FEDERAL (G.D.F.)   CUENTA INDIVIDUAL   \n",
       "419                                                NaN   CUENTA INDIVIDUAL   \n",
       "420                                                NaN   CUENTA INDIVIDUAL   \n",
       "421  SECRETARIA DE COMUNICACIONES  Y TRANSPORTES (SCT)   CUENTA INDIVIDUAL   \n",
       "422  PENS. Y JUB. DE LA CAJA DE PREV. DE LA POLICIA...       NO DISPONIBLE   \n",
       "\n",
       "      ESTATUS  BENEFICIARIOS_REG  \n",
       "0    INACTIVO                  4  \n",
       "1     VIGENTE                  2  \n",
       "2     VIGENTE                  0  \n",
       "3     VIGENTE                  1  \n",
       "4     VIGENTE                  0  \n",
       "..        ...                ...  \n",
       "418   VIGENTE                  2  \n",
       "419  INACTIVO                  0  \n",
       "420  INACTIVO                  0  \n",
       "421   VIGENTE                  0  \n",
       "422   VIGENTE                  4  \n",
       "\n",
       "[423 rows x 12 columns]"
      ]
     },
     "execution_count": 8,
     "metadata": {},
     "output_type": "execute_result"
    }
   ],
   "source": [
    "df_1 = pd.read_csv('c:/users/dell/Documents/data analysis/modulo4/proyecto final1/titulares_fb.csv')\n",
    "df_1"
   ]
  },
  {
   "cell_type": "markdown",
   "id": "88a5682d-2194-4ff1-93c7-6528f48472b5",
   "metadata": {},
   "source": [
    "primero se hace el reindexado:"
   ]
  },
  {
   "cell_type": "code",
   "execution_count": 9,
   "id": "1ab91727-0a08-40ee-a899-8afeaaa46e08",
   "metadata": {},
   "outputs": [
    {
     "data": {
      "text/html": [
       "<div>\n",
       "<style scoped>\n",
       "    .dataframe tbody tr th:only-of-type {\n",
       "        vertical-align: middle;\n",
       "    }\n",
       "\n",
       "    .dataframe tbody tr th {\n",
       "        vertical-align: top;\n",
       "    }\n",
       "\n",
       "    .dataframe thead th {\n",
       "        text-align: right;\n",
       "    }\n",
       "</style>\n",
       "<table border=\"1\" class=\"dataframe\">\n",
       "  <thead>\n",
       "    <tr style=\"text-align: right;\">\n",
       "      <th></th>\n",
       "      <th>Unnamed: 0</th>\n",
       "      <th>CAP</th>\n",
       "      <th>FECHA_NACIMIENTO</th>\n",
       "      <th>APELLIDO_PATERNO</th>\n",
       "      <th>APELLIDO_MATERNO</th>\n",
       "      <th>NOMBRE</th>\n",
       "      <th>GENERO</th>\n",
       "      <th>TIPO_DE_DIRECTO</th>\n",
       "      <th>RAMO1</th>\n",
       "      <th>REGIMEN</th>\n",
       "      <th>ESTATUS</th>\n",
       "      <th>BENEFICIARIOS_REG</th>\n",
       "    </tr>\n",
       "  </thead>\n",
       "  <tbody>\n",
       "    <tr>\n",
       "      <th>1</th>\n",
       "      <td>0</td>\n",
       "      <td>NO</td>\n",
       "      <td>1961-09-10</td>\n",
       "      <td>ALVARADO</td>\n",
       "      <td>AMADOR</td>\n",
       "      <td>MARIA ALEJANDRA</td>\n",
       "      <td>MUJER</td>\n",
       "      <td>TRABAJADOR</td>\n",
       "      <td>NaN</td>\n",
       "      <td>DECIMO TRANSITORIO</td>\n",
       "      <td>INACTIVO</td>\n",
       "      <td>4</td>\n",
       "    </tr>\n",
       "    <tr>\n",
       "      <th>2</th>\n",
       "      <td>1</td>\n",
       "      <td>NO</td>\n",
       "      <td>1963-10-03</td>\n",
       "      <td>AMADO</td>\n",
       "      <td>AVILA</td>\n",
       "      <td>ARACELI</td>\n",
       "      <td>MUJER</td>\n",
       "      <td>PENSIONISTA</td>\n",
       "      <td>PENSIONISTAS Y JUBILADOS CON CARGO AL I.S.S.S....</td>\n",
       "      <td>DECIMO TRANSITORIO</td>\n",
       "      <td>VIGENTE</td>\n",
       "      <td>2</td>\n",
       "    </tr>\n",
       "    <tr>\n",
       "      <th>3</th>\n",
       "      <td>2</td>\n",
       "      <td>NO</td>\n",
       "      <td>1981-07-28</td>\n",
       "      <td>ANAYA</td>\n",
       "      <td>ALVAREZ</td>\n",
       "      <td>AARON</td>\n",
       "      <td>HOMBRE</td>\n",
       "      <td>TRABAJADOR</td>\n",
       "      <td>ISSSTE</td>\n",
       "      <td>CUENTA INDIVIDUAL</td>\n",
       "      <td>VIGENTE</td>\n",
       "      <td>0</td>\n",
       "    </tr>\n",
       "    <tr>\n",
       "      <th>4</th>\n",
       "      <td>3</td>\n",
       "      <td>NO</td>\n",
       "      <td>1943-05-28</td>\n",
       "      <td>ALBA</td>\n",
       "      <td>ALDAVE</td>\n",
       "      <td>MARIA CRISTINA</td>\n",
       "      <td>MUJER</td>\n",
       "      <td>PENSIONISTA</td>\n",
       "      <td>PENSIONISTAS Y JUBILADOS CON CARGO AL I.S.S.S....</td>\n",
       "      <td>DECIMO TRANSITORIO</td>\n",
       "      <td>VIGENTE</td>\n",
       "      <td>1</td>\n",
       "    </tr>\n",
       "    <tr>\n",
       "      <th>5</th>\n",
       "      <td>4</td>\n",
       "      <td>NO</td>\n",
       "      <td>1946-04-25</td>\n",
       "      <td>ARANDA</td>\n",
       "      <td>ARANDA</td>\n",
       "      <td>CLARA EUGENIA</td>\n",
       "      <td>MUJER</td>\n",
       "      <td>PENSIONISTA</td>\n",
       "      <td>PENSIONISTAS Y JUBILADOS CON CARGO AL I.S.S.S....</td>\n",
       "      <td>DECIMO TRANSITORIO</td>\n",
       "      <td>VIGENTE</td>\n",
       "      <td>0</td>\n",
       "    </tr>\n",
       "    <tr>\n",
       "      <th>...</th>\n",
       "      <td>...</td>\n",
       "      <td>...</td>\n",
       "      <td>...</td>\n",
       "      <td>...</td>\n",
       "      <td>...</td>\n",
       "      <td>...</td>\n",
       "      <td>...</td>\n",
       "      <td>...</td>\n",
       "      <td>...</td>\n",
       "      <td>...</td>\n",
       "      <td>...</td>\n",
       "      <td>...</td>\n",
       "    </tr>\n",
       "    <tr>\n",
       "      <th>419</th>\n",
       "      <td>418</td>\n",
       "      <td>NO</td>\n",
       "      <td>1963-12-02</td>\n",
       "      <td>ZUÑIGA</td>\n",
       "      <td>SANCHEZ</td>\n",
       "      <td>MARIBEL</td>\n",
       "      <td>MUJER</td>\n",
       "      <td>TRABAJADOR</td>\n",
       "      <td>GOBIERNO DEL DISTRITO FEDERAL (G.D.F.)</td>\n",
       "      <td>CUENTA INDIVIDUAL</td>\n",
       "      <td>VIGENTE</td>\n",
       "      <td>2</td>\n",
       "    </tr>\n",
       "    <tr>\n",
       "      <th>420</th>\n",
       "      <td>419</td>\n",
       "      <td>NO</td>\n",
       "      <td>1981-06-01</td>\n",
       "      <td>ZUÑIGA</td>\n",
       "      <td>SANTIAGO</td>\n",
       "      <td>ZAYDA NELSY</td>\n",
       "      <td>MUJER</td>\n",
       "      <td>TRABAJADOR</td>\n",
       "      <td>NaN</td>\n",
       "      <td>CUENTA INDIVIDUAL</td>\n",
       "      <td>INACTIVO</td>\n",
       "      <td>0</td>\n",
       "    </tr>\n",
       "    <tr>\n",
       "      <th>421</th>\n",
       "      <td>420</td>\n",
       "      <td>NO</td>\n",
       "      <td>1983-11-04</td>\n",
       "      <td>ZUÑIGA</td>\n",
       "      <td>TORRES</td>\n",
       "      <td>SILVIA</td>\n",
       "      <td>MUJER</td>\n",
       "      <td>TRABAJADOR</td>\n",
       "      <td>NaN</td>\n",
       "      <td>CUENTA INDIVIDUAL</td>\n",
       "      <td>INACTIVO</td>\n",
       "      <td>0</td>\n",
       "    </tr>\n",
       "    <tr>\n",
       "      <th>422</th>\n",
       "      <td>421</td>\n",
       "      <td>NO</td>\n",
       "      <td>1946-07-17</td>\n",
       "      <td>ZUÑIGA</td>\n",
       "      <td>VAZQUEZ</td>\n",
       "      <td>JORGE MIGUEL</td>\n",
       "      <td>HOMBRE</td>\n",
       "      <td>TRABAJADOR</td>\n",
       "      <td>SECRETARIA DE COMUNICACIONES  Y TRANSPORTES (SCT)</td>\n",
       "      <td>CUENTA INDIVIDUAL</td>\n",
       "      <td>VIGENTE</td>\n",
       "      <td>0</td>\n",
       "    </tr>\n",
       "    <tr>\n",
       "      <th>423</th>\n",
       "      <td>422</td>\n",
       "      <td>NO</td>\n",
       "      <td>1947-05-25</td>\n",
       "      <td>ZUÑIGA</td>\n",
       "      <td>ZUÑIGA</td>\n",
       "      <td>BASILIO</td>\n",
       "      <td>HOMBRE</td>\n",
       "      <td>TRABAJADOR</td>\n",
       "      <td>PENS. Y JUB. DE LA CAJA DE PREV. DE LA POLICIA...</td>\n",
       "      <td>NO DISPONIBLE</td>\n",
       "      <td>VIGENTE</td>\n",
       "      <td>4</td>\n",
       "    </tr>\n",
       "  </tbody>\n",
       "</table>\n",
       "<p>423 rows × 12 columns</p>\n",
       "</div>"
      ],
      "text/plain": [
       "     Unnamed: 0 CAP FECHA_NACIMIENTO APELLIDO_PATERNO APELLIDO_MATERNO  \\\n",
       "1             0  NO       1961-09-10         ALVARADO           AMADOR   \n",
       "2             1  NO       1963-10-03            AMADO            AVILA   \n",
       "3             2  NO       1981-07-28            ANAYA          ALVAREZ   \n",
       "4             3  NO       1943-05-28             ALBA           ALDAVE   \n",
       "5             4  NO       1946-04-25           ARANDA           ARANDA   \n",
       "..          ...  ..              ...              ...              ...   \n",
       "419         418  NO       1963-12-02           ZUÑIGA          SANCHEZ   \n",
       "420         419  NO       1981-06-01           ZUÑIGA         SANTIAGO   \n",
       "421         420  NO       1983-11-04           ZUÑIGA           TORRES   \n",
       "422         421  NO       1946-07-17           ZUÑIGA          VAZQUEZ   \n",
       "423         422  NO       1947-05-25           ZUÑIGA           ZUÑIGA   \n",
       "\n",
       "              NOMBRE  GENERO TIPO_DE_DIRECTO  \\\n",
       "1    MARIA ALEJANDRA   MUJER      TRABAJADOR   \n",
       "2            ARACELI   MUJER     PENSIONISTA   \n",
       "3              AARON  HOMBRE      TRABAJADOR   \n",
       "4     MARIA CRISTINA   MUJER     PENSIONISTA   \n",
       "5      CLARA EUGENIA   MUJER     PENSIONISTA   \n",
       "..               ...     ...             ...   \n",
       "419          MARIBEL   MUJER      TRABAJADOR   \n",
       "420      ZAYDA NELSY   MUJER      TRABAJADOR   \n",
       "421           SILVIA   MUJER      TRABAJADOR   \n",
       "422     JORGE MIGUEL  HOMBRE      TRABAJADOR   \n",
       "423          BASILIO  HOMBRE      TRABAJADOR   \n",
       "\n",
       "                                                 RAMO1             REGIMEN  \\\n",
       "1                                                  NaN  DECIMO TRANSITORIO   \n",
       "2    PENSIONISTAS Y JUBILADOS CON CARGO AL I.S.S.S....  DECIMO TRANSITORIO   \n",
       "3                                               ISSSTE   CUENTA INDIVIDUAL   \n",
       "4    PENSIONISTAS Y JUBILADOS CON CARGO AL I.S.S.S....  DECIMO TRANSITORIO   \n",
       "5    PENSIONISTAS Y JUBILADOS CON CARGO AL I.S.S.S....  DECIMO TRANSITORIO   \n",
       "..                                                 ...                 ...   \n",
       "419             GOBIERNO DEL DISTRITO FEDERAL (G.D.F.)   CUENTA INDIVIDUAL   \n",
       "420                                                NaN   CUENTA INDIVIDUAL   \n",
       "421                                                NaN   CUENTA INDIVIDUAL   \n",
       "422  SECRETARIA DE COMUNICACIONES  Y TRANSPORTES (SCT)   CUENTA INDIVIDUAL   \n",
       "423  PENS. Y JUB. DE LA CAJA DE PREV. DE LA POLICIA...       NO DISPONIBLE   \n",
       "\n",
       "      ESTATUS  BENEFICIARIOS_REG  \n",
       "1    INACTIVO                  4  \n",
       "2     VIGENTE                  2  \n",
       "3     VIGENTE                  0  \n",
       "4     VIGENTE                  1  \n",
       "5     VIGENTE                  0  \n",
       "..        ...                ...  \n",
       "419   VIGENTE                  2  \n",
       "420  INACTIVO                  0  \n",
       "421  INACTIVO                  0  \n",
       "422   VIGENTE                  0  \n",
       "423   VIGENTE                  4  \n",
       "\n",
       "[423 rows x 12 columns]"
      ]
     },
     "execution_count": 9,
     "metadata": {},
     "output_type": "execute_result"
    }
   ],
   "source": [
    "df_2 = df_1.set_index(pd.Series(range(1,424)))\n",
    "df_2"
   ]
  },
  {
   "cell_type": "markdown",
   "id": "53744b54-ea37-4ed0-b849-dfa0d6f782a1",
   "metadata": {},
   "source": [
    "Se ve que campos contiene el dataset:"
   ]
  },
  {
   "cell_type": "code",
   "execution_count": 10,
   "id": "bbb9ea62-e610-43c8-9b66-7e0ae186cead",
   "metadata": {},
   "outputs": [
    {
     "data": {
      "text/plain": [
       "Index(['Unnamed: 0', 'CAP', 'FECHA_NACIMIENTO', 'APELLIDO_PATERNO',\n",
       "       'APELLIDO_MATERNO', 'NOMBRE', 'GENERO', 'TIPO_DE_DIRECTO', 'RAMO1',\n",
       "       'REGIMEN', 'ESTATUS', 'BENEFICIARIOS_REG'],\n",
       "      dtype='object')"
      ]
     },
     "execution_count": 10,
     "metadata": {},
     "output_type": "execute_result"
    }
   ],
   "source": [
    "df_2.columns"
   ]
  },
  {
   "cell_type": "markdown",
   "id": "83bd881b-a549-481f-bf07-e9c3557d326c",
   "metadata": {},
   "source": [
    "se procede a realizar el filtrado para generar un dataframe con solo trabajadores activos:"
   ]
  },
  {
   "cell_type": "code",
   "execution_count": 11,
   "id": "3cc86885-9119-4545-a1c2-a48e862c6cc7",
   "metadata": {},
   "outputs": [
    {
     "data": {
      "text/plain": [
       "1       True\n",
       "2      False\n",
       "3       True\n",
       "4      False\n",
       "5      False\n",
       "       ...  \n",
       "419     True\n",
       "420     True\n",
       "421     True\n",
       "422     True\n",
       "423     True\n",
       "Name: TIPO_DE_DIRECTO, Length: 423, dtype: bool"
      ]
     },
     "execution_count": 11,
     "metadata": {},
     "output_type": "execute_result"
    }
   ],
   "source": [
    "trab = df_2[\"TIPO_DE_DIRECTO\"] == \"TRABAJADOR\"\n",
    "trab"
   ]
  },
  {
   "cell_type": "markdown",
   "id": "2ddb18bd-80de-497b-8a97-700cf8800a1d",
   "metadata": {},
   "source": [
    "para sacar los trabajadores activos se necesita hacer filtrado tambien por ramo:"
   ]
  },
  {
   "cell_type": "code",
   "execution_count": 12,
   "id": "cefb5561-c464-4278-bf62-db89819a42e6",
   "metadata": {},
   "outputs": [
    {
     "data": {
      "text/plain": [
       "1      True\n",
       "2      True\n",
       "3      True\n",
       "4      True\n",
       "5      True\n",
       "       ... \n",
       "419    True\n",
       "420    True\n",
       "421    True\n",
       "422    True\n",
       "423    True\n",
       "Name: RAMO1, Length: 423, dtype: bool"
      ]
     },
     "execution_count": 12,
     "metadata": {},
     "output_type": "execute_result"
    }
   ],
   "source": [
    "trab1 = df_2[\"RAMO1\"] != \"CAJA DE PREV. PARA TRABS. A LISTA DE RAYA DEL GOB. DEL D.F.\"\n",
    "trab1"
   ]
  },
  {
   "cell_type": "code",
   "execution_count": 13,
   "id": "9ba044f6-8f0f-4a0f-b85a-00b46685c459",
   "metadata": {},
   "outputs": [
    {
     "data": {
      "text/plain": [
       "1      True\n",
       "2      True\n",
       "3      True\n",
       "4      True\n",
       "5      True\n",
       "       ... \n",
       "419    True\n",
       "420    True\n",
       "421    True\n",
       "422    True\n",
       "423    True\n",
       "Name: RAMO1, Length: 423, dtype: bool"
      ]
     },
     "execution_count": 13,
     "metadata": {},
     "output_type": "execute_result"
    }
   ],
   "source": [
    "trab2 = df_2[\"RAMO1\"] != \"CONTINUACION VOLUNTARIA EN EL REGIMEN OBLIGATORIO\"\n",
    "trab2"
   ]
  },
  {
   "cell_type": "code",
   "execution_count": 14,
   "id": "83b18bf1-54f5-4c6e-9b8a-a389a9f792ce",
   "metadata": {},
   "outputs": [
    {
     "data": {
      "text/plain": [
       "1      True\n",
       "2      True\n",
       "3      True\n",
       "4      True\n",
       "5      True\n",
       "       ... \n",
       "419    True\n",
       "420    True\n",
       "421    True\n",
       "422    True\n",
       "423    True\n",
       "Name: RAMO1, Length: 423, dtype: bool"
      ]
     },
     "execution_count": 14,
     "metadata": {},
     "output_type": "execute_result"
    }
   ],
   "source": [
    "trab3 = df_2[\"RAMO1\"] != \"PENS. Y JUB. DE LA CAJA DE PREV. DE LA POLICIA PREVENTIVA DE\"\n",
    "trab3"
   ]
  },
  {
   "cell_type": "code",
   "execution_count": 15,
   "id": "a4979b82-77cb-4257-8037-c587fa1addb5",
   "metadata": {},
   "outputs": [
    {
     "data": {
      "text/plain": [
       "1      False\n",
       "2       True\n",
       "3       True\n",
       "4       True\n",
       "5       True\n",
       "       ...  \n",
       "419     True\n",
       "420    False\n",
       "421    False\n",
       "422     True\n",
       "423     True\n",
       "Name: ESTATUS, Length: 423, dtype: bool"
      ]
     },
     "execution_count": 15,
     "metadata": {},
     "output_type": "execute_result"
    }
   ],
   "source": [
    "trab4 = df_2[\"ESTATUS\"] == \"VIGENTE\"\n",
    "trab4"
   ]
  },
  {
   "cell_type": "code",
   "execution_count": 16,
   "id": "b18a6f6c-9db9-4f9f-988a-59612a36080b",
   "metadata": {},
   "outputs": [
    {
     "data": {
      "text/plain": [
       "1      True\n",
       "2      True\n",
       "3      True\n",
       "4      True\n",
       "5      True\n",
       "       ... \n",
       "419    True\n",
       "420    True\n",
       "421    True\n",
       "422    True\n",
       "423    True\n",
       "Name: CAP, Length: 423, dtype: bool"
      ]
     },
     "execution_count": 16,
     "metadata": {},
     "output_type": "execute_result"
    }
   ],
   "source": [
    "trab5 = df_2[\"CAP\"] == \"NO\"\n",
    "trab5"
   ]
  },
  {
   "cell_type": "code",
   "execution_count": 17,
   "id": "de3188b3-4c7c-497c-85dd-e452c49b842f",
   "metadata": {},
   "outputs": [
    {
     "data": {
      "text/html": [
       "<div>\n",
       "<style scoped>\n",
       "    .dataframe tbody tr th:only-of-type {\n",
       "        vertical-align: middle;\n",
       "    }\n",
       "\n",
       "    .dataframe tbody tr th {\n",
       "        vertical-align: top;\n",
       "    }\n",
       "\n",
       "    .dataframe thead th {\n",
       "        text-align: right;\n",
       "    }\n",
       "</style>\n",
       "<table border=\"1\" class=\"dataframe\">\n",
       "  <thead>\n",
       "    <tr style=\"text-align: right;\">\n",
       "      <th></th>\n",
       "      <th>Unnamed: 0</th>\n",
       "      <th>CAP</th>\n",
       "      <th>FECHA_NACIMIENTO</th>\n",
       "      <th>APELLIDO_PATERNO</th>\n",
       "      <th>APELLIDO_MATERNO</th>\n",
       "      <th>NOMBRE</th>\n",
       "      <th>GENERO</th>\n",
       "      <th>TIPO_DE_DIRECTO</th>\n",
       "      <th>RAMO1</th>\n",
       "      <th>REGIMEN</th>\n",
       "      <th>ESTATUS</th>\n",
       "      <th>BENEFICIARIOS_REG</th>\n",
       "    </tr>\n",
       "  </thead>\n",
       "  <tbody>\n",
       "    <tr>\n",
       "      <th>3</th>\n",
       "      <td>2</td>\n",
       "      <td>NO</td>\n",
       "      <td>1981-07-28</td>\n",
       "      <td>ANAYA</td>\n",
       "      <td>ALVAREZ</td>\n",
       "      <td>AARON</td>\n",
       "      <td>HOMBRE</td>\n",
       "      <td>TRABAJADOR</td>\n",
       "      <td>ISSSTE</td>\n",
       "      <td>CUENTA INDIVIDUAL</td>\n",
       "      <td>VIGENTE</td>\n",
       "      <td>0</td>\n",
       "    </tr>\n",
       "    <tr>\n",
       "      <th>6</th>\n",
       "      <td>5</td>\n",
       "      <td>NO</td>\n",
       "      <td>1963-06-06</td>\n",
       "      <td>ALVARADO</td>\n",
       "      <td>ARBIZU</td>\n",
       "      <td>MARIA DEL CARMEN</td>\n",
       "      <td>MUJER</td>\n",
       "      <td>TRABAJADOR</td>\n",
       "      <td>INSTITUTO DE EDUCACION MEDIA SUPERIOR DE LA CI...</td>\n",
       "      <td>CUENTA INDIVIDUAL</td>\n",
       "      <td>VIGENTE</td>\n",
       "      <td>1</td>\n",
       "    </tr>\n",
       "    <tr>\n",
       "      <th>7</th>\n",
       "      <td>6</td>\n",
       "      <td>NO</td>\n",
       "      <td>1974-09-01</td>\n",
       "      <td>ANAYA</td>\n",
       "      <td>ALVAREZ</td>\n",
       "      <td>EDGAR</td>\n",
       "      <td>HOMBRE</td>\n",
       "      <td>TRABAJADOR</td>\n",
       "      <td>GOBIERNO DE LA CIUDAD DE MEXICO (G.CDMX.)</td>\n",
       "      <td>CUENTA INDIVIDUAL</td>\n",
       "      <td>VIGENTE</td>\n",
       "      <td>4</td>\n",
       "    </tr>\n",
       "    <tr>\n",
       "      <th>8</th>\n",
       "      <td>7</td>\n",
       "      <td>NO</td>\n",
       "      <td>1982-05-26</td>\n",
       "      <td>ALVAREZ</td>\n",
       "      <td>ALVAREZ</td>\n",
       "      <td>FERNANDO RAUL</td>\n",
       "      <td>HOMBRE</td>\n",
       "      <td>TRABAJADOR</td>\n",
       "      <td>UNIVERSIDAD NACIONAL AUTONOMA DE MEXICO</td>\n",
       "      <td>NO DISPONIBLE</td>\n",
       "      <td>VIGENTE</td>\n",
       "      <td>0</td>\n",
       "    </tr>\n",
       "    <tr>\n",
       "      <th>9</th>\n",
       "      <td>8</td>\n",
       "      <td>NO</td>\n",
       "      <td>1959-07-03</td>\n",
       "      <td>ARANA</td>\n",
       "      <td>ALVAREZ</td>\n",
       "      <td>GUSTAVO ADOLFO</td>\n",
       "      <td>HOMBRE</td>\n",
       "      <td>TRABAJADOR</td>\n",
       "      <td>GOBIERNO DE LA CIUDAD DE MEXICO (G.CDMX.)</td>\n",
       "      <td>DECIMO TRANSITORIO</td>\n",
       "      <td>VIGENTE</td>\n",
       "      <td>4</td>\n",
       "    </tr>\n",
       "    <tr>\n",
       "      <th>...</th>\n",
       "      <td>...</td>\n",
       "      <td>...</td>\n",
       "      <td>...</td>\n",
       "      <td>...</td>\n",
       "      <td>...</td>\n",
       "      <td>...</td>\n",
       "      <td>...</td>\n",
       "      <td>...</td>\n",
       "      <td>...</td>\n",
       "      <td>...</td>\n",
       "      <td>...</td>\n",
       "      <td>...</td>\n",
       "    </tr>\n",
       "    <tr>\n",
       "      <th>413</th>\n",
       "      <td>412</td>\n",
       "      <td>NO</td>\n",
       "      <td>1964-10-14</td>\n",
       "      <td>ZUBILLAGA</td>\n",
       "      <td>MARTINEZ</td>\n",
       "      <td>ENRIQUE</td>\n",
       "      <td>HOMBRE</td>\n",
       "      <td>TRABAJADOR</td>\n",
       "      <td>GOBIERNO DEL DISTRITO FEDERAL (G.D.F.)</td>\n",
       "      <td>NO DISPONIBLE</td>\n",
       "      <td>VIGENTE</td>\n",
       "      <td>0</td>\n",
       "    </tr>\n",
       "    <tr>\n",
       "      <th>418</th>\n",
       "      <td>417</td>\n",
       "      <td>NO</td>\n",
       "      <td>1962-09-25</td>\n",
       "      <td>ZUÑIGA</td>\n",
       "      <td>SANCHEZ</td>\n",
       "      <td>LETICIA CATALINA</td>\n",
       "      <td>MUJER</td>\n",
       "      <td>TRABAJADOR</td>\n",
       "      <td>GOBIERNO DEL DISTRITO FEDERAL (G.D.F.)</td>\n",
       "      <td>CUENTA INDIVIDUAL</td>\n",
       "      <td>VIGENTE</td>\n",
       "      <td>6</td>\n",
       "    </tr>\n",
       "    <tr>\n",
       "      <th>419</th>\n",
       "      <td>418</td>\n",
       "      <td>NO</td>\n",
       "      <td>1963-12-02</td>\n",
       "      <td>ZUÑIGA</td>\n",
       "      <td>SANCHEZ</td>\n",
       "      <td>MARIBEL</td>\n",
       "      <td>MUJER</td>\n",
       "      <td>TRABAJADOR</td>\n",
       "      <td>GOBIERNO DEL DISTRITO FEDERAL (G.D.F.)</td>\n",
       "      <td>CUENTA INDIVIDUAL</td>\n",
       "      <td>VIGENTE</td>\n",
       "      <td>2</td>\n",
       "    </tr>\n",
       "    <tr>\n",
       "      <th>422</th>\n",
       "      <td>421</td>\n",
       "      <td>NO</td>\n",
       "      <td>1946-07-17</td>\n",
       "      <td>ZUÑIGA</td>\n",
       "      <td>VAZQUEZ</td>\n",
       "      <td>JORGE MIGUEL</td>\n",
       "      <td>HOMBRE</td>\n",
       "      <td>TRABAJADOR</td>\n",
       "      <td>SECRETARIA DE COMUNICACIONES  Y TRANSPORTES (SCT)</td>\n",
       "      <td>CUENTA INDIVIDUAL</td>\n",
       "      <td>VIGENTE</td>\n",
       "      <td>0</td>\n",
       "    </tr>\n",
       "    <tr>\n",
       "      <th>423</th>\n",
       "      <td>422</td>\n",
       "      <td>NO</td>\n",
       "      <td>1947-05-25</td>\n",
       "      <td>ZUÑIGA</td>\n",
       "      <td>ZUÑIGA</td>\n",
       "      <td>BASILIO</td>\n",
       "      <td>HOMBRE</td>\n",
       "      <td>TRABAJADOR</td>\n",
       "      <td>PENS. Y JUB. DE LA CAJA DE PREV. DE LA POLICIA...</td>\n",
       "      <td>NO DISPONIBLE</td>\n",
       "      <td>VIGENTE</td>\n",
       "      <td>4</td>\n",
       "    </tr>\n",
       "  </tbody>\n",
       "</table>\n",
       "<p>208 rows × 12 columns</p>\n",
       "</div>"
      ],
      "text/plain": [
       "     Unnamed: 0 CAP FECHA_NACIMIENTO APELLIDO_PATERNO APELLIDO_MATERNO  \\\n",
       "3             2  NO       1981-07-28            ANAYA          ALVAREZ   \n",
       "6             5  NO       1963-06-06         ALVARADO           ARBIZU   \n",
       "7             6  NO       1974-09-01            ANAYA          ALVAREZ   \n",
       "8             7  NO       1982-05-26          ALVAREZ          ALVAREZ   \n",
       "9             8  NO       1959-07-03            ARANA          ALVAREZ   \n",
       "..          ...  ..              ...              ...              ...   \n",
       "413         412  NO       1964-10-14        ZUBILLAGA         MARTINEZ   \n",
       "418         417  NO       1962-09-25           ZUÑIGA          SANCHEZ   \n",
       "419         418  NO       1963-12-02           ZUÑIGA          SANCHEZ   \n",
       "422         421  NO       1946-07-17           ZUÑIGA          VAZQUEZ   \n",
       "423         422  NO       1947-05-25           ZUÑIGA           ZUÑIGA   \n",
       "\n",
       "               NOMBRE  GENERO TIPO_DE_DIRECTO  \\\n",
       "3               AARON  HOMBRE      TRABAJADOR   \n",
       "6    MARIA DEL CARMEN   MUJER      TRABAJADOR   \n",
       "7               EDGAR  HOMBRE      TRABAJADOR   \n",
       "8       FERNANDO RAUL  HOMBRE      TRABAJADOR   \n",
       "9      GUSTAVO ADOLFO  HOMBRE      TRABAJADOR   \n",
       "..                ...     ...             ...   \n",
       "413           ENRIQUE  HOMBRE      TRABAJADOR   \n",
       "418  LETICIA CATALINA   MUJER      TRABAJADOR   \n",
       "419           MARIBEL   MUJER      TRABAJADOR   \n",
       "422      JORGE MIGUEL  HOMBRE      TRABAJADOR   \n",
       "423           BASILIO  HOMBRE      TRABAJADOR   \n",
       "\n",
       "                                                 RAMO1             REGIMEN  \\\n",
       "3                                               ISSSTE   CUENTA INDIVIDUAL   \n",
       "6    INSTITUTO DE EDUCACION MEDIA SUPERIOR DE LA CI...   CUENTA INDIVIDUAL   \n",
       "7            GOBIERNO DE LA CIUDAD DE MEXICO (G.CDMX.)   CUENTA INDIVIDUAL   \n",
       "8              UNIVERSIDAD NACIONAL AUTONOMA DE MEXICO       NO DISPONIBLE   \n",
       "9            GOBIERNO DE LA CIUDAD DE MEXICO (G.CDMX.)  DECIMO TRANSITORIO   \n",
       "..                                                 ...                 ...   \n",
       "413             GOBIERNO DEL DISTRITO FEDERAL (G.D.F.)       NO DISPONIBLE   \n",
       "418             GOBIERNO DEL DISTRITO FEDERAL (G.D.F.)   CUENTA INDIVIDUAL   \n",
       "419             GOBIERNO DEL DISTRITO FEDERAL (G.D.F.)   CUENTA INDIVIDUAL   \n",
       "422  SECRETARIA DE COMUNICACIONES  Y TRANSPORTES (SCT)   CUENTA INDIVIDUAL   \n",
       "423  PENS. Y JUB. DE LA CAJA DE PREV. DE LA POLICIA...       NO DISPONIBLE   \n",
       "\n",
       "     ESTATUS  BENEFICIARIOS_REG  \n",
       "3    VIGENTE                  0  \n",
       "6    VIGENTE                  1  \n",
       "7    VIGENTE                  4  \n",
       "8    VIGENTE                  0  \n",
       "9    VIGENTE                  4  \n",
       "..       ...                ...  \n",
       "413  VIGENTE                  0  \n",
       "418  VIGENTE                  6  \n",
       "419  VIGENTE                  2  \n",
       "422  VIGENTE                  0  \n",
       "423  VIGENTE                  4  \n",
       "\n",
       "[208 rows x 12 columns]"
      ]
     },
     "execution_count": 17,
     "metadata": {},
     "output_type": "execute_result"
    }
   ],
   "source": [
    "tv = df_2[trab & trab1 & trab2 & trab3 & trab4 & trab5]\n",
    "tv"
   ]
  },
  {
   "cell_type": "code",
   "execution_count": 18,
   "id": "5294cb6f-4a06-46b7-b636-869890ef544f",
   "metadata": {},
   "outputs": [
    {
     "data": {
      "text/plain": [
       "Index(['Unnamed: 0', 'CAP', 'FECHA_NACIMIENTO', 'APELLIDO_PATERNO',\n",
       "       'APELLIDO_MATERNO', 'NOMBRE', 'GENERO', 'TIPO_DE_DIRECTO', 'RAMO1',\n",
       "       'REGIMEN', 'ESTATUS', 'BENEFICIARIOS_REG'],\n",
       "      dtype='object')"
      ]
     },
     "execution_count": 18,
     "metadata": {},
     "output_type": "execute_result"
    }
   ],
   "source": [
    "tv.columns"
   ]
  },
  {
   "cell_type": "markdown",
   "id": "2bac9d36-b3fb-4128-8c9d-e3f69f87d901",
   "metadata": {},
   "source": [
    "Se procede a eliminar datos sensibles y no esenciales para el estudio:"
   ]
  },
  {
   "cell_type": "code",
   "execution_count": 20,
   "id": "2102f686-9bfd-420c-b2be-12d8f1b22e11",
   "metadata": {},
   "outputs": [
    {
     "data": {
      "text/html": [
       "<div>\n",
       "<style scoped>\n",
       "    .dataframe tbody tr th:only-of-type {\n",
       "        vertical-align: middle;\n",
       "    }\n",
       "\n",
       "    .dataframe tbody tr th {\n",
       "        vertical-align: top;\n",
       "    }\n",
       "\n",
       "    .dataframe thead th {\n",
       "        text-align: right;\n",
       "    }\n",
       "</style>\n",
       "<table border=\"1\" class=\"dataframe\">\n",
       "  <thead>\n",
       "    <tr style=\"text-align: right;\">\n",
       "      <th></th>\n",
       "      <th>FECHA_NACIMIENTO</th>\n",
       "      <th>GENERO</th>\n",
       "      <th>REGIMEN</th>\n",
       "      <th>BENEFICIARIOS_REG</th>\n",
       "    </tr>\n",
       "  </thead>\n",
       "  <tbody>\n",
       "    <tr>\n",
       "      <th>3</th>\n",
       "      <td>1981-07-28</td>\n",
       "      <td>HOMBRE</td>\n",
       "      <td>CUENTA INDIVIDUAL</td>\n",
       "      <td>0</td>\n",
       "    </tr>\n",
       "    <tr>\n",
       "      <th>6</th>\n",
       "      <td>1963-06-06</td>\n",
       "      <td>MUJER</td>\n",
       "      <td>CUENTA INDIVIDUAL</td>\n",
       "      <td>1</td>\n",
       "    </tr>\n",
       "    <tr>\n",
       "      <th>7</th>\n",
       "      <td>1974-09-01</td>\n",
       "      <td>HOMBRE</td>\n",
       "      <td>CUENTA INDIVIDUAL</td>\n",
       "      <td>4</td>\n",
       "    </tr>\n",
       "    <tr>\n",
       "      <th>8</th>\n",
       "      <td>1982-05-26</td>\n",
       "      <td>HOMBRE</td>\n",
       "      <td>NO DISPONIBLE</td>\n",
       "      <td>0</td>\n",
       "    </tr>\n",
       "    <tr>\n",
       "      <th>9</th>\n",
       "      <td>1959-07-03</td>\n",
       "      <td>HOMBRE</td>\n",
       "      <td>DECIMO TRANSITORIO</td>\n",
       "      <td>4</td>\n",
       "    </tr>\n",
       "    <tr>\n",
       "      <th>...</th>\n",
       "      <td>...</td>\n",
       "      <td>...</td>\n",
       "      <td>...</td>\n",
       "      <td>...</td>\n",
       "    </tr>\n",
       "    <tr>\n",
       "      <th>413</th>\n",
       "      <td>1964-10-14</td>\n",
       "      <td>HOMBRE</td>\n",
       "      <td>NO DISPONIBLE</td>\n",
       "      <td>0</td>\n",
       "    </tr>\n",
       "    <tr>\n",
       "      <th>418</th>\n",
       "      <td>1962-09-25</td>\n",
       "      <td>MUJER</td>\n",
       "      <td>CUENTA INDIVIDUAL</td>\n",
       "      <td>6</td>\n",
       "    </tr>\n",
       "    <tr>\n",
       "      <th>419</th>\n",
       "      <td>1963-12-02</td>\n",
       "      <td>MUJER</td>\n",
       "      <td>CUENTA INDIVIDUAL</td>\n",
       "      <td>2</td>\n",
       "    </tr>\n",
       "    <tr>\n",
       "      <th>422</th>\n",
       "      <td>1946-07-17</td>\n",
       "      <td>HOMBRE</td>\n",
       "      <td>CUENTA INDIVIDUAL</td>\n",
       "      <td>0</td>\n",
       "    </tr>\n",
       "    <tr>\n",
       "      <th>423</th>\n",
       "      <td>1947-05-25</td>\n",
       "      <td>HOMBRE</td>\n",
       "      <td>NO DISPONIBLE</td>\n",
       "      <td>4</td>\n",
       "    </tr>\n",
       "  </tbody>\n",
       "</table>\n",
       "<p>208 rows × 4 columns</p>\n",
       "</div>"
      ],
      "text/plain": [
       "    FECHA_NACIMIENTO  GENERO             REGIMEN  BENEFICIARIOS_REG\n",
       "3         1981-07-28  HOMBRE   CUENTA INDIVIDUAL                  0\n",
       "6         1963-06-06   MUJER   CUENTA INDIVIDUAL                  1\n",
       "7         1974-09-01  HOMBRE   CUENTA INDIVIDUAL                  4\n",
       "8         1982-05-26  HOMBRE       NO DISPONIBLE                  0\n",
       "9         1959-07-03  HOMBRE  DECIMO TRANSITORIO                  4\n",
       "..               ...     ...                 ...                ...\n",
       "413       1964-10-14  HOMBRE       NO DISPONIBLE                  0\n",
       "418       1962-09-25   MUJER   CUENTA INDIVIDUAL                  6\n",
       "419       1963-12-02   MUJER   CUENTA INDIVIDUAL                  2\n",
       "422       1946-07-17  HOMBRE   CUENTA INDIVIDUAL                  0\n",
       "423       1947-05-25  HOMBRE       NO DISPONIBLE                  4\n",
       "\n",
       "[208 rows x 4 columns]"
      ]
     },
     "execution_count": 20,
     "metadata": {},
     "output_type": "execute_result"
    }
   ],
   "source": [
    "tv_1 = tv.drop(columns=[\"Unnamed: 0\", \"CAP\", \"APELLIDO_PATERNO\", \"APELLIDO_MATERNO\", \"NOMBRE\", \"TIPO_DE_DIRECTO\", \"RAMO1\", \"ESTATUS\"])\n",
    "tv_1"
   ]
  },
  {
   "cell_type": "markdown",
   "id": "7eae4fa4-0880-44cb-a86f-34a371a3adfd",
   "metadata": {},
   "source": [
    "Se necesita saber si hay datos nulos:"
   ]
  },
  {
   "cell_type": "code",
   "execution_count": 21,
   "id": "105d6c14-ed60-4549-997c-96d88ec2e869",
   "metadata": {},
   "outputs": [
    {
     "data": {
      "text/html": [
       "<div>\n",
       "<style scoped>\n",
       "    .dataframe tbody tr th:only-of-type {\n",
       "        vertical-align: middle;\n",
       "    }\n",
       "\n",
       "    .dataframe tbody tr th {\n",
       "        vertical-align: top;\n",
       "    }\n",
       "\n",
       "    .dataframe thead th {\n",
       "        text-align: right;\n",
       "    }\n",
       "</style>\n",
       "<table border=\"1\" class=\"dataframe\">\n",
       "  <thead>\n",
       "    <tr style=\"text-align: right;\">\n",
       "      <th></th>\n",
       "      <th>FECHA_NACIMIENTO</th>\n",
       "      <th>GENERO</th>\n",
       "      <th>REGIMEN</th>\n",
       "      <th>BENEFICIARIOS_REG</th>\n",
       "    </tr>\n",
       "  </thead>\n",
       "  <tbody>\n",
       "    <tr>\n",
       "      <th>3</th>\n",
       "      <td>False</td>\n",
       "      <td>False</td>\n",
       "      <td>False</td>\n",
       "      <td>False</td>\n",
       "    </tr>\n",
       "    <tr>\n",
       "      <th>6</th>\n",
       "      <td>False</td>\n",
       "      <td>False</td>\n",
       "      <td>False</td>\n",
       "      <td>False</td>\n",
       "    </tr>\n",
       "    <tr>\n",
       "      <th>7</th>\n",
       "      <td>False</td>\n",
       "      <td>False</td>\n",
       "      <td>False</td>\n",
       "      <td>False</td>\n",
       "    </tr>\n",
       "    <tr>\n",
       "      <th>8</th>\n",
       "      <td>False</td>\n",
       "      <td>False</td>\n",
       "      <td>False</td>\n",
       "      <td>False</td>\n",
       "    </tr>\n",
       "    <tr>\n",
       "      <th>9</th>\n",
       "      <td>False</td>\n",
       "      <td>False</td>\n",
       "      <td>False</td>\n",
       "      <td>False</td>\n",
       "    </tr>\n",
       "    <tr>\n",
       "      <th>...</th>\n",
       "      <td>...</td>\n",
       "      <td>...</td>\n",
       "      <td>...</td>\n",
       "      <td>...</td>\n",
       "    </tr>\n",
       "    <tr>\n",
       "      <th>413</th>\n",
       "      <td>False</td>\n",
       "      <td>False</td>\n",
       "      <td>False</td>\n",
       "      <td>False</td>\n",
       "    </tr>\n",
       "    <tr>\n",
       "      <th>418</th>\n",
       "      <td>False</td>\n",
       "      <td>False</td>\n",
       "      <td>False</td>\n",
       "      <td>False</td>\n",
       "    </tr>\n",
       "    <tr>\n",
       "      <th>419</th>\n",
       "      <td>False</td>\n",
       "      <td>False</td>\n",
       "      <td>False</td>\n",
       "      <td>False</td>\n",
       "    </tr>\n",
       "    <tr>\n",
       "      <th>422</th>\n",
       "      <td>False</td>\n",
       "      <td>False</td>\n",
       "      <td>False</td>\n",
       "      <td>False</td>\n",
       "    </tr>\n",
       "    <tr>\n",
       "      <th>423</th>\n",
       "      <td>False</td>\n",
       "      <td>False</td>\n",
       "      <td>False</td>\n",
       "      <td>False</td>\n",
       "    </tr>\n",
       "  </tbody>\n",
       "</table>\n",
       "<p>208 rows × 4 columns</p>\n",
       "</div>"
      ],
      "text/plain": [
       "     FECHA_NACIMIENTO  GENERO  REGIMEN  BENEFICIARIOS_REG\n",
       "3               False   False    False              False\n",
       "6               False   False    False              False\n",
       "7               False   False    False              False\n",
       "8               False   False    False              False\n",
       "9               False   False    False              False\n",
       "..                ...     ...      ...                ...\n",
       "413             False   False    False              False\n",
       "418             False   False    False              False\n",
       "419             False   False    False              False\n",
       "422             False   False    False              False\n",
       "423             False   False    False              False\n",
       "\n",
       "[208 rows x 4 columns]"
      ]
     },
     "execution_count": 21,
     "metadata": {},
     "output_type": "execute_result"
    }
   ],
   "source": [
    "tv_1.isna()"
   ]
  },
  {
   "cell_type": "markdown",
   "id": "0d46cc6f-b399-439b-9aa3-d4928c24934e",
   "metadata": {},
   "source": [
    "Y saber cuantos son:"
   ]
  },
  {
   "cell_type": "code",
   "execution_count": 22,
   "id": "cb70c86e-d832-4c23-a8d9-ba9d0ce3b1af",
   "metadata": {},
   "outputs": [
    {
     "data": {
      "text/plain": [
       "FECHA_NACIMIENTO     0\n",
       "GENERO               0\n",
       "REGIMEN              0\n",
       "BENEFICIARIOS_REG    0\n",
       "dtype: int64"
      ]
     },
     "execution_count": 22,
     "metadata": {},
     "output_type": "execute_result"
    }
   ],
   "source": [
    "tv_1.isna().sum()"
   ]
  },
  {
   "cell_type": "markdown",
   "id": "d9f39f91-c24d-4568-8a51-fc9599b28114",
   "metadata": {},
   "source": [
    "lo siguiente es ver que tipo de variables contiene cada campo:"
   ]
  },
  {
   "cell_type": "code",
   "execution_count": 23,
   "id": "da389509-7f52-4889-a77d-eb778247862a",
   "metadata": {},
   "outputs": [
    {
     "data": {
      "text/plain": [
       "FECHA_NACIMIENTO     object\n",
       "GENERO               object\n",
       "REGIMEN              object\n",
       "BENEFICIARIOS_REG     int64\n",
       "dtype: object"
      ]
     },
     "execution_count": 23,
     "metadata": {},
     "output_type": "execute_result"
    }
   ],
   "source": [
    "tv_1.dtypes"
   ]
  },
  {
   "cell_type": "markdown",
   "id": "66b6b4d8-7938-4e78-ab07-0dfb56fc7fbb",
   "metadata": {},
   "source": [
    "Como se observa el campo \"FECHA_NACIMIENTO\" hay que hacer cambio para que sea tipo datetime"
   ]
  },
  {
   "cell_type": "code",
   "execution_count": 24,
   "id": "32fbd2bc-f4c1-4fa3-81bd-168c938730f9",
   "metadata": {},
   "outputs": [],
   "source": [
    "def nacimiento(valor):\n",
    "    return pd.to_datetime(valor)"
   ]
  },
  {
   "cell_type": "code",
   "execution_count": 25,
   "id": "84ad4680-a256-4033-9efa-822800ec86c3",
   "metadata": {},
   "outputs": [
    {
     "data": {
      "text/html": [
       "<div>\n",
       "<style scoped>\n",
       "    .dataframe tbody tr th:only-of-type {\n",
       "        vertical-align: middle;\n",
       "    }\n",
       "\n",
       "    .dataframe tbody tr th {\n",
       "        vertical-align: top;\n",
       "    }\n",
       "\n",
       "    .dataframe thead th {\n",
       "        text-align: right;\n",
       "    }\n",
       "</style>\n",
       "<table border=\"1\" class=\"dataframe\">\n",
       "  <thead>\n",
       "    <tr style=\"text-align: right;\">\n",
       "      <th></th>\n",
       "      <th>FECHA_NACIMIENTO</th>\n",
       "      <th>GENERO</th>\n",
       "      <th>REGIMEN</th>\n",
       "      <th>BENEFICIARIOS_REG</th>\n",
       "    </tr>\n",
       "  </thead>\n",
       "  <tbody>\n",
       "    <tr>\n",
       "      <th>3</th>\n",
       "      <td>1981-07-28</td>\n",
       "      <td>HOMBRE</td>\n",
       "      <td>CUENTA INDIVIDUAL</td>\n",
       "      <td>0</td>\n",
       "    </tr>\n",
       "    <tr>\n",
       "      <th>6</th>\n",
       "      <td>1963-06-06</td>\n",
       "      <td>MUJER</td>\n",
       "      <td>CUENTA INDIVIDUAL</td>\n",
       "      <td>1</td>\n",
       "    </tr>\n",
       "    <tr>\n",
       "      <th>7</th>\n",
       "      <td>1974-09-01</td>\n",
       "      <td>HOMBRE</td>\n",
       "      <td>CUENTA INDIVIDUAL</td>\n",
       "      <td>4</td>\n",
       "    </tr>\n",
       "    <tr>\n",
       "      <th>8</th>\n",
       "      <td>1982-05-26</td>\n",
       "      <td>HOMBRE</td>\n",
       "      <td>NO DISPONIBLE</td>\n",
       "      <td>0</td>\n",
       "    </tr>\n",
       "    <tr>\n",
       "      <th>9</th>\n",
       "      <td>1959-07-03</td>\n",
       "      <td>HOMBRE</td>\n",
       "      <td>DECIMO TRANSITORIO</td>\n",
       "      <td>4</td>\n",
       "    </tr>\n",
       "    <tr>\n",
       "      <th>...</th>\n",
       "      <td>...</td>\n",
       "      <td>...</td>\n",
       "      <td>...</td>\n",
       "      <td>...</td>\n",
       "    </tr>\n",
       "    <tr>\n",
       "      <th>413</th>\n",
       "      <td>1964-10-14</td>\n",
       "      <td>HOMBRE</td>\n",
       "      <td>NO DISPONIBLE</td>\n",
       "      <td>0</td>\n",
       "    </tr>\n",
       "    <tr>\n",
       "      <th>418</th>\n",
       "      <td>1962-09-25</td>\n",
       "      <td>MUJER</td>\n",
       "      <td>CUENTA INDIVIDUAL</td>\n",
       "      <td>6</td>\n",
       "    </tr>\n",
       "    <tr>\n",
       "      <th>419</th>\n",
       "      <td>1963-12-02</td>\n",
       "      <td>MUJER</td>\n",
       "      <td>CUENTA INDIVIDUAL</td>\n",
       "      <td>2</td>\n",
       "    </tr>\n",
       "    <tr>\n",
       "      <th>422</th>\n",
       "      <td>1946-07-17</td>\n",
       "      <td>HOMBRE</td>\n",
       "      <td>CUENTA INDIVIDUAL</td>\n",
       "      <td>0</td>\n",
       "    </tr>\n",
       "    <tr>\n",
       "      <th>423</th>\n",
       "      <td>1947-05-25</td>\n",
       "      <td>HOMBRE</td>\n",
       "      <td>NO DISPONIBLE</td>\n",
       "      <td>4</td>\n",
       "    </tr>\n",
       "  </tbody>\n",
       "</table>\n",
       "<p>208 rows × 4 columns</p>\n",
       "</div>"
      ],
      "text/plain": [
       "    FECHA_NACIMIENTO  GENERO             REGIMEN  BENEFICIARIOS_REG\n",
       "3         1981-07-28  HOMBRE   CUENTA INDIVIDUAL                  0\n",
       "6         1963-06-06   MUJER   CUENTA INDIVIDUAL                  1\n",
       "7         1974-09-01  HOMBRE   CUENTA INDIVIDUAL                  4\n",
       "8         1982-05-26  HOMBRE       NO DISPONIBLE                  0\n",
       "9         1959-07-03  HOMBRE  DECIMO TRANSITORIO                  4\n",
       "..               ...     ...                 ...                ...\n",
       "413       1964-10-14  HOMBRE       NO DISPONIBLE                  0\n",
       "418       1962-09-25   MUJER   CUENTA INDIVIDUAL                  6\n",
       "419       1963-12-02   MUJER   CUENTA INDIVIDUAL                  2\n",
       "422       1946-07-17  HOMBRE   CUENTA INDIVIDUAL                  0\n",
       "423       1947-05-25  HOMBRE       NO DISPONIBLE                  4\n",
       "\n",
       "[208 rows x 4 columns]"
      ]
     },
     "execution_count": 25,
     "metadata": {},
     "output_type": "execute_result"
    }
   ],
   "source": [
    "tv_1[\"FECHA_NACIMIENTO\"] = tv_1[\"FECHA_NACIMIENTO\"].apply(nacimiento)\n",
    "tv_1"
   ]
  },
  {
   "cell_type": "markdown",
   "id": "6bc37153-a0f4-4d0b-a892-ed5838ecf3ca",
   "metadata": {},
   "source": [
    "Se verifica que se hizo la conversion:"
   ]
  },
  {
   "cell_type": "code",
   "execution_count": 27,
   "id": "ce81d597-1e36-45d1-b8ea-7baa11ada5d0",
   "metadata": {},
   "outputs": [
    {
     "data": {
      "text/plain": [
       "FECHA_NACIMIENTO     datetime64[ns]\n",
       "GENERO                       object\n",
       "REGIMEN                      object\n",
       "BENEFICIARIOS_REG             int64\n",
       "dtype: object"
      ]
     },
     "execution_count": 27,
     "metadata": {},
     "output_type": "execute_result"
    }
   ],
   "source": [
    "tv_1.dtypes"
   ]
  },
  {
   "cell_type": "markdown",
   "id": "6ae32458-46f9-45a2-bdcc-84ce695c08c4",
   "metadata": {},
   "source": [
    "Se necesita generar dos campos más, uno que muestre la edad y otro que menciona en que intervalo de edad se encuentra:"
   ]
  },
  {
   "cell_type": "code",
   "execution_count": 28,
   "id": "78d82432-d780-4a7b-a9dd-fa803d9cddea",
   "metadata": {},
   "outputs": [],
   "source": [
    "def longevidad (valor):\n",
    "    hoy =dt.datetime.today()\n",
    "    return  hoy.year - valor.year - ((hoy.month, hoy.day) < (valor.month, valor.day))"
   ]
  },
  {
   "cell_type": "code",
   "execution_count": 30,
   "id": "b4bf27ef-8310-429c-8980-014509908fd5",
   "metadata": {},
   "outputs": [
    {
     "data": {
      "text/html": [
       "<div>\n",
       "<style scoped>\n",
       "    .dataframe tbody tr th:only-of-type {\n",
       "        vertical-align: middle;\n",
       "    }\n",
       "\n",
       "    .dataframe tbody tr th {\n",
       "        vertical-align: top;\n",
       "    }\n",
       "\n",
       "    .dataframe thead th {\n",
       "        text-align: right;\n",
       "    }\n",
       "</style>\n",
       "<table border=\"1\" class=\"dataframe\">\n",
       "  <thead>\n",
       "    <tr style=\"text-align: right;\">\n",
       "      <th></th>\n",
       "      <th>FECHA_NACIMIENTO</th>\n",
       "      <th>GENERO</th>\n",
       "      <th>REGIMEN</th>\n",
       "      <th>BENEFICIARIOS_REG</th>\n",
       "      <th>EDAD</th>\n",
       "    </tr>\n",
       "  </thead>\n",
       "  <tbody>\n",
       "    <tr>\n",
       "      <th>3</th>\n",
       "      <td>1981-07-28</td>\n",
       "      <td>HOMBRE</td>\n",
       "      <td>CUENTA INDIVIDUAL</td>\n",
       "      <td>0</td>\n",
       "      <td>40</td>\n",
       "    </tr>\n",
       "    <tr>\n",
       "      <th>6</th>\n",
       "      <td>1963-06-06</td>\n",
       "      <td>MUJER</td>\n",
       "      <td>CUENTA INDIVIDUAL</td>\n",
       "      <td>1</td>\n",
       "      <td>58</td>\n",
       "    </tr>\n",
       "    <tr>\n",
       "      <th>7</th>\n",
       "      <td>1974-09-01</td>\n",
       "      <td>HOMBRE</td>\n",
       "      <td>CUENTA INDIVIDUAL</td>\n",
       "      <td>4</td>\n",
       "      <td>47</td>\n",
       "    </tr>\n",
       "    <tr>\n",
       "      <th>8</th>\n",
       "      <td>1982-05-26</td>\n",
       "      <td>HOMBRE</td>\n",
       "      <td>NO DISPONIBLE</td>\n",
       "      <td>0</td>\n",
       "      <td>39</td>\n",
       "    </tr>\n",
       "    <tr>\n",
       "      <th>9</th>\n",
       "      <td>1959-07-03</td>\n",
       "      <td>HOMBRE</td>\n",
       "      <td>DECIMO TRANSITORIO</td>\n",
       "      <td>4</td>\n",
       "      <td>62</td>\n",
       "    </tr>\n",
       "    <tr>\n",
       "      <th>...</th>\n",
       "      <td>...</td>\n",
       "      <td>...</td>\n",
       "      <td>...</td>\n",
       "      <td>...</td>\n",
       "      <td>...</td>\n",
       "    </tr>\n",
       "    <tr>\n",
       "      <th>413</th>\n",
       "      <td>1964-10-14</td>\n",
       "      <td>HOMBRE</td>\n",
       "      <td>NO DISPONIBLE</td>\n",
       "      <td>0</td>\n",
       "      <td>56</td>\n",
       "    </tr>\n",
       "    <tr>\n",
       "      <th>418</th>\n",
       "      <td>1962-09-25</td>\n",
       "      <td>MUJER</td>\n",
       "      <td>CUENTA INDIVIDUAL</td>\n",
       "      <td>6</td>\n",
       "      <td>59</td>\n",
       "    </tr>\n",
       "    <tr>\n",
       "      <th>419</th>\n",
       "      <td>1963-12-02</td>\n",
       "      <td>MUJER</td>\n",
       "      <td>CUENTA INDIVIDUAL</td>\n",
       "      <td>2</td>\n",
       "      <td>57</td>\n",
       "    </tr>\n",
       "    <tr>\n",
       "      <th>422</th>\n",
       "      <td>1946-07-17</td>\n",
       "      <td>HOMBRE</td>\n",
       "      <td>CUENTA INDIVIDUAL</td>\n",
       "      <td>0</td>\n",
       "      <td>75</td>\n",
       "    </tr>\n",
       "    <tr>\n",
       "      <th>423</th>\n",
       "      <td>1947-05-25</td>\n",
       "      <td>HOMBRE</td>\n",
       "      <td>NO DISPONIBLE</td>\n",
       "      <td>4</td>\n",
       "      <td>74</td>\n",
       "    </tr>\n",
       "  </tbody>\n",
       "</table>\n",
       "<p>208 rows × 5 columns</p>\n",
       "</div>"
      ],
      "text/plain": [
       "    FECHA_NACIMIENTO  GENERO             REGIMEN  BENEFICIARIOS_REG  EDAD\n",
       "3         1981-07-28  HOMBRE   CUENTA INDIVIDUAL                  0    40\n",
       "6         1963-06-06   MUJER   CUENTA INDIVIDUAL                  1    58\n",
       "7         1974-09-01  HOMBRE   CUENTA INDIVIDUAL                  4    47\n",
       "8         1982-05-26  HOMBRE       NO DISPONIBLE                  0    39\n",
       "9         1959-07-03  HOMBRE  DECIMO TRANSITORIO                  4    62\n",
       "..               ...     ...                 ...                ...   ...\n",
       "413       1964-10-14  HOMBRE       NO DISPONIBLE                  0    56\n",
       "418       1962-09-25   MUJER   CUENTA INDIVIDUAL                  6    59\n",
       "419       1963-12-02   MUJER   CUENTA INDIVIDUAL                  2    57\n",
       "422       1946-07-17  HOMBRE   CUENTA INDIVIDUAL                  0    75\n",
       "423       1947-05-25  HOMBRE       NO DISPONIBLE                  4    74\n",
       "\n",
       "[208 rows x 5 columns]"
      ]
     },
     "execution_count": 30,
     "metadata": {},
     "output_type": "execute_result"
    }
   ],
   "source": [
    "tv_1[\"EDAD\"] = tv_1[\"FECHA_NACIMIENTO\"].apply(longevidad)\n",
    "tv_1"
   ]
  },
  {
   "cell_type": "code",
   "execution_count": 31,
   "id": "134f2da6-ff3b-4104-8c60-ad105e109281",
   "metadata": {},
   "outputs": [
    {
     "data": {
      "text/html": [
       "<div>\n",
       "<style scoped>\n",
       "    .dataframe tbody tr th:only-of-type {\n",
       "        vertical-align: middle;\n",
       "    }\n",
       "\n",
       "    .dataframe tbody tr th {\n",
       "        vertical-align: top;\n",
       "    }\n",
       "\n",
       "    .dataframe thead th {\n",
       "        text-align: right;\n",
       "    }\n",
       "</style>\n",
       "<table border=\"1\" class=\"dataframe\">\n",
       "  <thead>\n",
       "    <tr style=\"text-align: right;\">\n",
       "      <th></th>\n",
       "      <th>FECHA_NACIMIENTO</th>\n",
       "      <th>GENERO</th>\n",
       "      <th>REGIMEN</th>\n",
       "      <th>BENEFICIARIOS_REG</th>\n",
       "      <th>EDAD</th>\n",
       "      <th>INTERVALO_EDAD</th>\n",
       "    </tr>\n",
       "  </thead>\n",
       "  <tbody>\n",
       "    <tr>\n",
       "      <th>3</th>\n",
       "      <td>1981-07-28</td>\n",
       "      <td>HOMBRE</td>\n",
       "      <td>CUENTA INDIVIDUAL</td>\n",
       "      <td>0</td>\n",
       "      <td>40</td>\n",
       "      <td>31 a 40</td>\n",
       "    </tr>\n",
       "    <tr>\n",
       "      <th>6</th>\n",
       "      <td>1963-06-06</td>\n",
       "      <td>MUJER</td>\n",
       "      <td>CUENTA INDIVIDUAL</td>\n",
       "      <td>1</td>\n",
       "      <td>58</td>\n",
       "      <td>51 a 60</td>\n",
       "    </tr>\n",
       "    <tr>\n",
       "      <th>7</th>\n",
       "      <td>1974-09-01</td>\n",
       "      <td>HOMBRE</td>\n",
       "      <td>CUENTA INDIVIDUAL</td>\n",
       "      <td>4</td>\n",
       "      <td>47</td>\n",
       "      <td>41 a 50</td>\n",
       "    </tr>\n",
       "    <tr>\n",
       "      <th>8</th>\n",
       "      <td>1982-05-26</td>\n",
       "      <td>HOMBRE</td>\n",
       "      <td>NO DISPONIBLE</td>\n",
       "      <td>0</td>\n",
       "      <td>39</td>\n",
       "      <td>31 a 40</td>\n",
       "    </tr>\n",
       "    <tr>\n",
       "      <th>9</th>\n",
       "      <td>1959-07-03</td>\n",
       "      <td>HOMBRE</td>\n",
       "      <td>DECIMO TRANSITORIO</td>\n",
       "      <td>4</td>\n",
       "      <td>62</td>\n",
       "      <td>61 a 70</td>\n",
       "    </tr>\n",
       "    <tr>\n",
       "      <th>...</th>\n",
       "      <td>...</td>\n",
       "      <td>...</td>\n",
       "      <td>...</td>\n",
       "      <td>...</td>\n",
       "      <td>...</td>\n",
       "      <td>...</td>\n",
       "    </tr>\n",
       "    <tr>\n",
       "      <th>413</th>\n",
       "      <td>1964-10-14</td>\n",
       "      <td>HOMBRE</td>\n",
       "      <td>NO DISPONIBLE</td>\n",
       "      <td>0</td>\n",
       "      <td>56</td>\n",
       "      <td>51 a 60</td>\n",
       "    </tr>\n",
       "    <tr>\n",
       "      <th>418</th>\n",
       "      <td>1962-09-25</td>\n",
       "      <td>MUJER</td>\n",
       "      <td>CUENTA INDIVIDUAL</td>\n",
       "      <td>6</td>\n",
       "      <td>59</td>\n",
       "      <td>51 a 60</td>\n",
       "    </tr>\n",
       "    <tr>\n",
       "      <th>419</th>\n",
       "      <td>1963-12-02</td>\n",
       "      <td>MUJER</td>\n",
       "      <td>CUENTA INDIVIDUAL</td>\n",
       "      <td>2</td>\n",
       "      <td>57</td>\n",
       "      <td>51 a 60</td>\n",
       "    </tr>\n",
       "    <tr>\n",
       "      <th>422</th>\n",
       "      <td>1946-07-17</td>\n",
       "      <td>HOMBRE</td>\n",
       "      <td>CUENTA INDIVIDUAL</td>\n",
       "      <td>0</td>\n",
       "      <td>75</td>\n",
       "      <td>71 a 80</td>\n",
       "    </tr>\n",
       "    <tr>\n",
       "      <th>423</th>\n",
       "      <td>1947-05-25</td>\n",
       "      <td>HOMBRE</td>\n",
       "      <td>NO DISPONIBLE</td>\n",
       "      <td>4</td>\n",
       "      <td>74</td>\n",
       "      <td>71 a 80</td>\n",
       "    </tr>\n",
       "  </tbody>\n",
       "</table>\n",
       "<p>208 rows × 6 columns</p>\n",
       "</div>"
      ],
      "text/plain": [
       "    FECHA_NACIMIENTO  GENERO             REGIMEN  BENEFICIARIOS_REG  EDAD  \\\n",
       "3         1981-07-28  HOMBRE   CUENTA INDIVIDUAL                  0    40   \n",
       "6         1963-06-06   MUJER   CUENTA INDIVIDUAL                  1    58   \n",
       "7         1974-09-01  HOMBRE   CUENTA INDIVIDUAL                  4    47   \n",
       "8         1982-05-26  HOMBRE       NO DISPONIBLE                  0    39   \n",
       "9         1959-07-03  HOMBRE  DECIMO TRANSITORIO                  4    62   \n",
       "..               ...     ...                 ...                ...   ...   \n",
       "413       1964-10-14  HOMBRE       NO DISPONIBLE                  0    56   \n",
       "418       1962-09-25   MUJER   CUENTA INDIVIDUAL                  6    59   \n",
       "419       1963-12-02   MUJER   CUENTA INDIVIDUAL                  2    57   \n",
       "422       1946-07-17  HOMBRE   CUENTA INDIVIDUAL                  0    75   \n",
       "423       1947-05-25  HOMBRE       NO DISPONIBLE                  4    74   \n",
       "\n",
       "    INTERVALO_EDAD  \n",
       "3          31 a 40  \n",
       "6          51 a 60  \n",
       "7          41 a 50  \n",
       "8          31 a 40  \n",
       "9          61 a 70  \n",
       "..             ...  \n",
       "413        51 a 60  \n",
       "418        51 a 60  \n",
       "419        51 a 60  \n",
       "422        71 a 80  \n",
       "423        71 a 80  \n",
       "\n",
       "[208 rows x 6 columns]"
      ]
     },
     "execution_count": 31,
     "metadata": {},
     "output_type": "execute_result"
    }
   ],
   "source": [
    "etiqueta = ['21 a 30','31 a 40','41 a 50','51 a 60','61 a 70','71 a 80','81 a 90','91 a 100','100 y mas']\n",
    "tv_1['INTERVALO_EDAD'] = pd.cut(x = tv_1['EDAD'], bins = [20, 30, 40, 50, 60, 70, 80, 90 ,100, 110], labels = etiqueta)\n",
    "tv_1"
   ]
  },
  {
   "cell_type": "markdown",
   "id": "0a93f3e6-d78a-4fb9-a107-4278330e4af9",
   "metadata": {},
   "source": [
    "Checamos de nuevo los tipos de variable"
   ]
  },
  {
   "cell_type": "code",
   "execution_count": 32,
   "id": "5d216d99-e6cb-43fe-8c22-10dbd70ac87c",
   "metadata": {},
   "outputs": [
    {
     "data": {
      "text/plain": [
       "FECHA_NACIMIENTO     datetime64[ns]\n",
       "GENERO                       object\n",
       "REGIMEN                      object\n",
       "BENEFICIARIOS_REG             int64\n",
       "EDAD                          int64\n",
       "INTERVALO_EDAD             category\n",
       "dtype: object"
      ]
     },
     "execution_count": 32,
     "metadata": {},
     "output_type": "execute_result"
    }
   ],
   "source": [
    "tv_1.dtypes"
   ]
  },
  {
   "cell_type": "markdown",
   "id": "3275a7ba-aa3d-4a22-aeb0-f7bc6e595694",
   "metadata": {},
   "source": [
    "Se tiene el dataset que se necesita para hacer el análisis de datos"
   ]
  },
  {
   "cell_type": "markdown",
   "id": "048a83cd-90dd-4d5c-9788-86320611ddf8",
   "metadata": {},
   "source": [
    "### Tercera parte. Análisis de datos"
   ]
  },
  {
   "cell_type": "markdown",
   "id": "d61dd075-aef3-4a36-8583-b9bea5e482f5",
   "metadata": {},
   "source": [
    "Teniendo ya el dataset que se necesita se procede a sacar primero la grafica para la cantidad de trabajadores por genero:"
   ]
  },
  {
   "cell_type": "code",
   "execution_count": 33,
   "id": "44375611-40c5-4f39-94c4-87609e455d7e",
   "metadata": {},
   "outputs": [
    {
     "data": {
      "text/plain": [
       "HOMBRE    110\n",
       "MUJER      98\n",
       "Name: GENERO, dtype: int64"
      ]
     },
     "execution_count": 33,
     "metadata": {},
     "output_type": "execute_result"
    }
   ],
   "source": [
    "tv_2 = tv_1\n",
    "counts = tv_1['GENERO'].value_counts() \n",
    "counts"
   ]
  },
  {
   "cell_type": "code",
   "execution_count": 34,
   "id": "bf4e3558-a526-477f-93d0-3406d4793cf0",
   "metadata": {},
   "outputs": [
    {
     "data": {
      "image/png": "[encoded data removed]",
      "text/plain": [
       "<Figure size 432x288 with 1 Axes>"
      ]
     },
     "metadata": {},
     "output_type": "display_data"
    }
   ],
   "source": [
    "sns.set_theme(style = 'whitegrid')\n",
    "ax = sns.barplot(x=counts.index, y=counts)\n",
    "ax.set_title('Poblacion de trabajadores activos por genero', fontsize=15, pad=5)\n",
    "ax.set(ylabel='conteo');\n",
    "ax.set(xlabel='genero');\n",
    "ax.set_xticklabels(ax.get_xticklabels(), rotation=70);"
   ]
  },
  {
   "cell_type": "markdown",
   "id": "1959c2a6-8b9e-4dbd-bda6-3797a010af2e",
   "metadata": {},
   "source": [
    "En porcentaje sería:"
   ]
  },
  {
   "cell_type": "code",
   "execution_count": 35,
   "id": "5c4ea914-784c-4bb8-b84f-e29084434bf4",
   "metadata": {},
   "outputs": [
    {
     "data": {
      "text/plain": [
       "HOMBRE    52.884615\n",
       "MUJER     47.115385\n",
       "Name: GENERO, dtype: float64"
      ]
     },
     "execution_count": 35,
     "metadata": {},
     "output_type": "execute_result"
    }
   ],
   "source": [
    "porcentaje = counts * 100 / counts.sum()\n",
    "porcentaje"
   ]
  },
  {
   "cell_type": "code",
   "execution_count": 36,
   "id": "bae13f59-4dde-4f62-8461-404fd223bfc5",
   "metadata": {},
   "outputs": [
    {
     "data": {
      "image/png": "[encoded data removed]",
      "text/plain": [
       "<Figure size 432x288 with 1 Axes>"
      ]
     },
     "metadata": {},
     "output_type": "display_data"
    }
   ],
   "source": [
    "sns.set_theme(style = 'whitegrid')\n",
    "ax = sns.barplot(x=porcentaje.index, y=porcentaje)\n",
    "ax.set_title('Poblacion de trabajadores activos por genero (%)', fontsize=15, pad=5)\n",
    "ax.set(ylabel='%');\n",
    "ax.set(xlabel='genero');\n",
    "ax.set_xticklabels(ax.get_xticklabels(), rotation=70);"
   ]
  },
  {
   "cell_type": "markdown",
   "id": "0399e1bd-99a5-4d6b-9f9a-a43e3387a75f",
   "metadata": {},
   "source": [
    "Ahora queremos saber en que intervalos de edad estan distribuidos los trajajadores"
   ]
  },
  {
   "cell_type": "code",
   "execution_count": 37,
   "id": "32ffe50e-e6c5-4510-8dce-18cf25af60b1",
   "metadata": {},
   "outputs": [
    {
     "data": {
      "text/plain": [
       "41 a 50      61\n",
       "51 a 60      58\n",
       "31 a 40      37\n",
       "61 a 70      34\n",
       "21 a 30      13\n",
       "71 a 80       5\n",
       "81 a 90       0\n",
       "91 a 100      0\n",
       "100 y mas     0\n",
       "Name: INTERVALO_EDAD, dtype: int64"
      ]
     },
     "execution_count": 37,
     "metadata": {},
     "output_type": "execute_result"
    }
   ],
   "source": [
    "counts_1 = tv_2['INTERVALO_EDAD'].value_counts()\n",
    "counts_1"
   ]
  },
  {
   "cell_type": "code",
   "execution_count": 38,
   "id": "f4e120ed-6f5a-408c-81df-eb0fbe8d7c0c",
   "metadata": {},
   "outputs": [
    {
     "data": {
      "image/png": "[encoded data removed]",
      "text/plain": [
       "<Figure size 720x432 with 1 Axes>"
      ]
     },
     "metadata": {},
     "output_type": "display_data"
    }
   ],
   "source": [
    "ax = plt.subplots(figsize=(10, 6))\n",
    "ax = sns.barplot(x= counts_1.index, y= counts_1)\n",
    "ax.set_title('Distribución de trabajadores activos por intervalo de edades', fontsize=15, pad=5)\n",
    "ax.set(xlabel='rango de edades');\n",
    "ax.set(ylabel='conteo');"
   ]
  },
  {
   "cell_type": "markdown",
   "id": "81c56aa4-17ab-4063-a293-8c99a5696eb8",
   "metadata": {},
   "source": [
    "Esta misma dsitribución se muestra ahora por genero:"
   ]
  },
  {
   "cell_type": "code",
   "execution_count": 39,
   "id": "72fb652b-9762-4483-9fc3-475750f18871",
   "metadata": {},
   "outputs": [
    {
     "data": {
      "text/html": [
       "<div>\n",
       "<style scoped>\n",
       "    .dataframe tbody tr th:only-of-type {\n",
       "        vertical-align: middle;\n",
       "    }\n",
       "\n",
       "    .dataframe tbody tr th {\n",
       "        vertical-align: top;\n",
       "    }\n",
       "\n",
       "    .dataframe thead th {\n",
       "        text-align: right;\n",
       "    }\n",
       "</style>\n",
       "<table border=\"1\" class=\"dataframe\">\n",
       "  <thead>\n",
       "    <tr style=\"text-align: right;\">\n",
       "      <th></th>\n",
       "      <th>FECHA_NACIMIENTO</th>\n",
       "      <th>GENERO</th>\n",
       "      <th>REGIMEN</th>\n",
       "      <th>BENEFICIARIOS_REG</th>\n",
       "      <th>EDAD</th>\n",
       "      <th>INTERVALO_EDAD</th>\n",
       "      <th>count</th>\n",
       "    </tr>\n",
       "  </thead>\n",
       "  <tbody>\n",
       "    <tr>\n",
       "      <th>3</th>\n",
       "      <td>1981-07-28</td>\n",
       "      <td>HOMBRE</td>\n",
       "      <td>CUENTA INDIVIDUAL</td>\n",
       "      <td>0</td>\n",
       "      <td>40</td>\n",
       "      <td>31 a 40</td>\n",
       "      <td>1</td>\n",
       "    </tr>\n",
       "    <tr>\n",
       "      <th>6</th>\n",
       "      <td>1963-06-06</td>\n",
       "      <td>MUJER</td>\n",
       "      <td>CUENTA INDIVIDUAL</td>\n",
       "      <td>1</td>\n",
       "      <td>58</td>\n",
       "      <td>51 a 60</td>\n",
       "      <td>1</td>\n",
       "    </tr>\n",
       "    <tr>\n",
       "      <th>7</th>\n",
       "      <td>1974-09-01</td>\n",
       "      <td>HOMBRE</td>\n",
       "      <td>CUENTA INDIVIDUAL</td>\n",
       "      <td>4</td>\n",
       "      <td>47</td>\n",
       "      <td>41 a 50</td>\n",
       "      <td>1</td>\n",
       "    </tr>\n",
       "    <tr>\n",
       "      <th>8</th>\n",
       "      <td>1982-05-26</td>\n",
       "      <td>HOMBRE</td>\n",
       "      <td>NO DISPONIBLE</td>\n",
       "      <td>0</td>\n",
       "      <td>39</td>\n",
       "      <td>31 a 40</td>\n",
       "      <td>1</td>\n",
       "    </tr>\n",
       "    <tr>\n",
       "      <th>9</th>\n",
       "      <td>1959-07-03</td>\n",
       "      <td>HOMBRE</td>\n",
       "      <td>DECIMO TRANSITORIO</td>\n",
       "      <td>4</td>\n",
       "      <td>62</td>\n",
       "      <td>61 a 70</td>\n",
       "      <td>1</td>\n",
       "    </tr>\n",
       "    <tr>\n",
       "      <th>...</th>\n",
       "      <td>...</td>\n",
       "      <td>...</td>\n",
       "      <td>...</td>\n",
       "      <td>...</td>\n",
       "      <td>...</td>\n",
       "      <td>...</td>\n",
       "      <td>...</td>\n",
       "    </tr>\n",
       "    <tr>\n",
       "      <th>413</th>\n",
       "      <td>1964-10-14</td>\n",
       "      <td>HOMBRE</td>\n",
       "      <td>NO DISPONIBLE</td>\n",
       "      <td>0</td>\n",
       "      <td>56</td>\n",
       "      <td>51 a 60</td>\n",
       "      <td>1</td>\n",
       "    </tr>\n",
       "    <tr>\n",
       "      <th>418</th>\n",
       "      <td>1962-09-25</td>\n",
       "      <td>MUJER</td>\n",
       "      <td>CUENTA INDIVIDUAL</td>\n",
       "      <td>6</td>\n",
       "      <td>59</td>\n",
       "      <td>51 a 60</td>\n",
       "      <td>1</td>\n",
       "    </tr>\n",
       "    <tr>\n",
       "      <th>419</th>\n",
       "      <td>1963-12-02</td>\n",
       "      <td>MUJER</td>\n",
       "      <td>CUENTA INDIVIDUAL</td>\n",
       "      <td>2</td>\n",
       "      <td>57</td>\n",
       "      <td>51 a 60</td>\n",
       "      <td>1</td>\n",
       "    </tr>\n",
       "    <tr>\n",
       "      <th>422</th>\n",
       "      <td>1946-07-17</td>\n",
       "      <td>HOMBRE</td>\n",
       "      <td>CUENTA INDIVIDUAL</td>\n",
       "      <td>0</td>\n",
       "      <td>75</td>\n",
       "      <td>71 a 80</td>\n",
       "      <td>1</td>\n",
       "    </tr>\n",
       "    <tr>\n",
       "      <th>423</th>\n",
       "      <td>1947-05-25</td>\n",
       "      <td>HOMBRE</td>\n",
       "      <td>NO DISPONIBLE</td>\n",
       "      <td>4</td>\n",
       "      <td>74</td>\n",
       "      <td>71 a 80</td>\n",
       "      <td>1</td>\n",
       "    </tr>\n",
       "  </tbody>\n",
       "</table>\n",
       "<p>208 rows × 7 columns</p>\n",
       "</div>"
      ],
      "text/plain": [
       "    FECHA_NACIMIENTO  GENERO             REGIMEN  BENEFICIARIOS_REG  EDAD  \\\n",
       "3         1981-07-28  HOMBRE   CUENTA INDIVIDUAL                  0    40   \n",
       "6         1963-06-06   MUJER   CUENTA INDIVIDUAL                  1    58   \n",
       "7         1974-09-01  HOMBRE   CUENTA INDIVIDUAL                  4    47   \n",
       "8         1982-05-26  HOMBRE       NO DISPONIBLE                  0    39   \n",
       "9         1959-07-03  HOMBRE  DECIMO TRANSITORIO                  4    62   \n",
       "..               ...     ...                 ...                ...   ...   \n",
       "413       1964-10-14  HOMBRE       NO DISPONIBLE                  0    56   \n",
       "418       1962-09-25   MUJER   CUENTA INDIVIDUAL                  6    59   \n",
       "419       1963-12-02   MUJER   CUENTA INDIVIDUAL                  2    57   \n",
       "422       1946-07-17  HOMBRE   CUENTA INDIVIDUAL                  0    75   \n",
       "423       1947-05-25  HOMBRE       NO DISPONIBLE                  4    74   \n",
       "\n",
       "    INTERVALO_EDAD  count  \n",
       "3          31 a 40      1  \n",
       "6          51 a 60      1  \n",
       "7          41 a 50      1  \n",
       "8          31 a 40      1  \n",
       "9          61 a 70      1  \n",
       "..             ...    ...  \n",
       "413        51 a 60      1  \n",
       "418        51 a 60      1  \n",
       "419        51 a 60      1  \n",
       "422        71 a 80      1  \n",
       "423        71 a 80      1  \n",
       "\n",
       "[208 rows x 7 columns]"
      ]
     },
     "execution_count": 39,
     "metadata": {},
     "output_type": "execute_result"
    }
   ],
   "source": [
    "tv_2['count'] = 1\n",
    "tv_2"
   ]
  },
  {
   "cell_type": "code",
   "execution_count": 40,
   "id": "a5e6bcb8-8b5e-478c-858b-350957cad152",
   "metadata": {},
   "outputs": [
    {
     "data": {
      "text/plain": [
       "INTERVALO_EDAD  GENERO\n",
       "21 a 30         HOMBRE     6\n",
       "                MUJER      7\n",
       "31 a 40         HOMBRE    18\n",
       "                MUJER     19\n",
       "41 a 50         HOMBRE    31\n",
       "                MUJER     30\n",
       "51 a 60         HOMBRE    32\n",
       "                MUJER     26\n",
       "61 a 70         HOMBRE    19\n",
       "                MUJER     15\n",
       "71 a 80         HOMBRE     4\n",
       "                MUJER      1\n",
       "81 a 90         HOMBRE     0\n",
       "                MUJER      0\n",
       "91 a 100        HOMBRE     0\n",
       "                MUJER      0\n",
       "100 y mas       HOMBRE     0\n",
       "                MUJER      0\n",
       "Name: count, dtype: int64"
      ]
     },
     "execution_count": 40,
     "metadata": {},
     "output_type": "execute_result"
    }
   ],
   "source": [
    "counts_2 = tv_2.groupby(['INTERVALO_EDAD', 'GENERO'])['count'].sum()\n",
    "counts_2"
   ]
  },
  {
   "cell_type": "code",
   "execution_count": 41,
   "id": "e4ae1e79-ac0d-4e6e-8fda-44ad65811100",
   "metadata": {},
   "outputs": [
    {
     "data": {
      "text/html": [
       "<div>\n",
       "<style scoped>\n",
       "    .dataframe tbody tr th:only-of-type {\n",
       "        vertical-align: middle;\n",
       "    }\n",
       "\n",
       "    .dataframe tbody tr th {\n",
       "        vertical-align: top;\n",
       "    }\n",
       "\n",
       "    .dataframe thead th {\n",
       "        text-align: right;\n",
       "    }\n",
       "</style>\n",
       "<table border=\"1\" class=\"dataframe\">\n",
       "  <thead>\n",
       "    <tr style=\"text-align: right;\">\n",
       "      <th>GENERO</th>\n",
       "      <th>HOMBRE</th>\n",
       "      <th>MUJER</th>\n",
       "    </tr>\n",
       "    <tr>\n",
       "      <th>INTERVALO_EDAD</th>\n",
       "      <th></th>\n",
       "      <th></th>\n",
       "    </tr>\n",
       "  </thead>\n",
       "  <tbody>\n",
       "    <tr>\n",
       "      <th>21 a 30</th>\n",
       "      <td>6</td>\n",
       "      <td>7</td>\n",
       "    </tr>\n",
       "    <tr>\n",
       "      <th>31 a 40</th>\n",
       "      <td>18</td>\n",
       "      <td>19</td>\n",
       "    </tr>\n",
       "    <tr>\n",
       "      <th>41 a 50</th>\n",
       "      <td>31</td>\n",
       "      <td>30</td>\n",
       "    </tr>\n",
       "    <tr>\n",
       "      <th>51 a 60</th>\n",
       "      <td>32</td>\n",
       "      <td>26</td>\n",
       "    </tr>\n",
       "    <tr>\n",
       "      <th>61 a 70</th>\n",
       "      <td>19</td>\n",
       "      <td>15</td>\n",
       "    </tr>\n",
       "    <tr>\n",
       "      <th>71 a 80</th>\n",
       "      <td>4</td>\n",
       "      <td>1</td>\n",
       "    </tr>\n",
       "    <tr>\n",
       "      <th>81 a 90</th>\n",
       "      <td>0</td>\n",
       "      <td>0</td>\n",
       "    </tr>\n",
       "    <tr>\n",
       "      <th>91 a 100</th>\n",
       "      <td>0</td>\n",
       "      <td>0</td>\n",
       "    </tr>\n",
       "    <tr>\n",
       "      <th>100 y mas</th>\n",
       "      <td>0</td>\n",
       "      <td>0</td>\n",
       "    </tr>\n",
       "  </tbody>\n",
       "</table>\n",
       "</div>"
      ],
      "text/plain": [
       "GENERO          HOMBRE  MUJER\n",
       "INTERVALO_EDAD               \n",
       "21 a 30              6      7\n",
       "31 a 40             18     19\n",
       "41 a 50             31     30\n",
       "51 a 60             32     26\n",
       "61 a 70             19     15\n",
       "71 a 80              4      1\n",
       "81 a 90              0      0\n",
       "91 a 100             0      0\n",
       "100 y mas            0      0"
      ]
     },
     "execution_count": 41,
     "metadata": {},
     "output_type": "execute_result"
    }
   ],
   "source": [
    "counts_2 = counts_2.unstack(1)\n",
    "counts_2"
   ]
  },
  {
   "cell_type": "code",
   "execution_count": 42,
   "id": "1a1fb585-85a4-4059-bb4e-7eba92eaa217",
   "metadata": {},
   "outputs": [
    {
     "data": {
      "image/png": "[encoded data removed]",
      "text/plain": [
       "<Figure size 720x360 with 1 Axes>"
      ]
     },
     "metadata": {},
     "output_type": "display_data"
    }
   ],
   "source": [
    "plt.style.use('seaborn')\n",
    "\n",
    "fig = plt.figure(figsize=(10, 5))\n",
    "ax = fig.add_subplot()\n",
    "\n",
    "plt1 = ax.bar(counts_2.index, counts_2['HOMBRE'], label='HOMBRE')\n",
    "plt2 = ax.bar(counts_2.index, counts_2['MUJER'], bottom= counts_2['HOMBRE'])\n",
    "\n",
    "ax.set_ylabel('conteo')\n",
    "ax.set_title('Número de beneficiarios segun intervalos de edad y genero', fontsize=15, pad=5);\n",
    "plt.legend((plt1[0], plt2[0]), ('Hombre', 'Mujer'));\n",
    "ax.set_ylim(0, 70);"
   ]
  },
  {
   "cell_type": "markdown",
   "id": "38d26895-21c3-45e2-9814-674e55a98a1a",
   "metadata": {},
   "source": [
    "Le sacamos l media, la media truncada y la mediana para saber en que edad anda la poblacion de trabajadores activos"
   ]
  },
  {
   "cell_type": "code",
   "execution_count": 43,
   "id": "31248bf0-085e-4d4f-8116-5b15497e03a1",
   "metadata": {},
   "outputs": [
    {
     "name": "stdout",
     "output_type": "stream",
     "text": [
      "La media truncada es: 49.45 años \n"
     ]
    }
   ],
   "source": [
    "mt = stats.trim_mean(tv_2[\"EDAD\"], 0.1)\n",
    "print(f'La media truncada es: {mt:,.2f} años ')"
   ]
  },
  {
   "cell_type": "code",
   "execution_count": 44,
   "id": "e8cba7b8-7af4-4b38-aa5e-8b93fac1d7dc",
   "metadata": {},
   "outputs": [
    {
     "name": "stdout",
     "output_type": "stream",
     "text": [
      "La media es: 49.29 años \n"
     ]
    }
   ],
   "source": [
    "media = tv_2[\"EDAD\"].mean()\n",
    "print(f'La media es: {media:,.2f} años ')"
   ]
  },
  {
   "cell_type": "code",
   "execution_count": 45,
   "id": "32a82b1e-2548-4f60-8c9d-920690a54a7d",
   "metadata": {},
   "outputs": [
    {
     "name": "stdout",
     "output_type": "stream",
     "text": [
      "La mediana es: 49.00 años \n"
     ]
    }
   ],
   "source": [
    "media = tv_2[\"EDAD\"].median()\n",
    "\n",
    "print(f'La mediana es: {media:,.2f} años ')"
   ]
  },
  {
   "cell_type": "code",
   "execution_count": 46,
   "id": "0cc77bbe-513b-43a9-a931-46b5251d8356",
   "metadata": {},
   "outputs": [
    {
     "name": "stdout",
     "output_type": "stream",
     "text": [
      "La desviación estandar es: 11.348904600766964\n"
     ]
    }
   ],
   "source": [
    "print(f'La desviación estandar es: { tv_2[\"EDAD\"].std()}')"
   ]
  },
  {
   "cell_type": "code",
   "execution_count": 47,
   "id": "c0fed50f-ccf4-40d1-9c7f-49e09438b6a8",
   "metadata": {},
   "outputs": [
    {
     "data": {
      "text/plain": [
       "0    47\n",
       "dtype: int64"
      ]
     },
     "execution_count": 47,
     "metadata": {},
     "output_type": "execute_result"
    }
   ],
   "source": [
    "tv_2[\"EDAD\"].mode()"
   ]
  },
  {
   "cell_type": "code",
   "execution_count": 48,
   "id": "e20f4f8c-988e-4702-869f-7aa4e7c6b814",
   "metadata": {},
   "outputs": [
    {
     "name": "stdout",
     "output_type": "stream",
     "text": [
      "Valor mínimo: 21\n",
      "Percentil 0: 21.0\n",
      "Percentil 10: 34.0\n",
      "Percentil 25: 41.0\n",
      "Percentil 50: 49.0\n",
      "Mediana: 49.0\n",
      "Percentil 75: 57.0\n",
      "Percentil 90: 64.30000000000001\n",
      "Percentil 100: 76.0\n",
      "Valor máximo: 76\n"
     ]
    }
   ],
   "source": [
    "print(f'Valor mínimo: {tv_2[\"EDAD\"].min()}')\n",
    "print(f'Percentil 0: {tv_2[\"EDAD\"].quantile(0)}')\n",
    "print(f'Percentil 10: {tv_2[\"EDAD\"].quantile(0.1)}')\n",
    "print(f'Percentil 25: {tv_2[\"EDAD\"].quantile(0.25)}')\n",
    "print(f'Percentil 50: {tv_2[\"EDAD\"].median()}')\n",
    "print(f'Mediana: {tv_2[\"EDAD\"].quantile(0.5)}')\n",
    "print(f'Percentil 75: {tv_2[\"EDAD\"].quantile(0.75)}')\n",
    "print(f'Percentil 90: {tv_2[\"EDAD\"].quantile(0.9)}')\n",
    "print(f'Percentil 100: {tv_2[\"EDAD\"].quantile(1)}')\n",
    "print(f'Valor máximo: {tv_2[\"EDAD\"].max()}')"
   ]
  },
  {
   "cell_type": "code",
   "execution_count": 49,
   "id": "e9c6bcaa-d625-49fa-82fb-efa613caa765",
   "metadata": {},
   "outputs": [
    {
     "name": "stdout",
     "output_type": "stream",
     "text": [
      "El rango intercuartilico se encuentra en: 16.0\n"
     ]
    }
   ],
   "source": [
    "print(f'El rango intercuartilico se encuentra en: {tv_2[\"EDAD\"].quantile(0.75) - tv_2[\"EDAD\"].quantile(0.25)}')"
   ]
  },
  {
   "cell_type": "markdown",
   "id": "9a4801c3-015d-4eb7-a9d4-2e5ea5c966c1",
   "metadata": {},
   "source": [
    "Se realiza un boxplot para ver como estan distribuidos los cuartiles:"
   ]
  },
  {
   "cell_type": "code",
   "execution_count": 50,
   "id": "35710854-3540-4528-bf02-0180656535f4",
   "metadata": {},
   "outputs": [
    {
     "data": {
      "image/png": "[encoded data removed]",
      "text/plain": [
       "<Figure size 576x396 with 1 Axes>"
      ]
     },
     "metadata": {},
     "output_type": "display_data"
    }
   ],
   "source": [
    "sns.set(style=\"whitegrid\")\n",
    "sns.boxplot(x=tv_2[\"EDAD\"])\n",
    "plt.axvline(tv_2[\"EDAD\"].mean(), c='r');"
   ]
  },
  {
   "cell_type": "markdown",
   "id": "2f95f9a2-15dc-4da5-8b8b-cd802536ab07",
   "metadata": {},
   "source": [
    "Como se ve en el boxplot la mediana y media estan casi a la par y no hay valores atipicos el el dataset. Por último queremos ver cual es la correlación entre la edad de los trabajdores y el número de beneficiarios registrados por estos."
   ]
  },
  {
   "cell_type": "code",
   "execution_count": 51,
   "id": "1116d0dc-d1ec-4ed6-af07-cf138fc1978c",
   "metadata": {},
   "outputs": [
    {
     "data": {
      "image/png": "[encoded data removed]",
      "text/plain": [
       "<Figure size 576x396 with 1 Axes>"
      ]
     },
     "metadata": {},
     "output_type": "display_data"
    }
   ],
   "source": [
    "sns.set(style=\"whitegrid\")\n",
    "plt.scatter(x=tv_2['EDAD'], y= tv_2['BENEFICIARIOS_REG'], c='m');"
   ]
  },
  {
   "cell_type": "code",
   "execution_count": 52,
   "id": "41dfd2ed-c12a-4563-898d-9ec55d1f1b04",
   "metadata": {},
   "outputs": [
    {
     "name": "stdout",
     "output_type": "stream",
     "text": [
      "Correlación entre las edad y beneficiaros dados de alta: 0.10657764427043481\n"
     ]
    }
   ],
   "source": [
    "relacion = tv_2['EDAD'].corr(tv_2['BENEFICIARIOS_REG'] )\n",
    "print(f'Correlación entre las edad y beneficiaros dados de alta: { relacion }' )"
   ]
  },
  {
   "cell_type": "markdown",
   "id": "0931e42f-4e22-487e-a2bf-d80764b373a2",
   "metadata": {},
   "source": [
    "## Conclusiones:"
   ]
  },
  {
   "cell_type": "markdown",
   "id": "2e27e3b9-317f-43b6-aa08-b552a63bc6fb",
   "metadata": {},
   "source": [
    "El dataset que se utilizo fue construido manualmente y hasta el momento no ha sido terminado, pero permitió dar un pequeño bosquejo sobre \n",
    "el intervalo en edades en la que esta actualmente la clinica en donde se labora, y en un futuro terminado poder mostrar datos más realistas.\n"
   ]
  },
  {
   "cell_type": "code",
   "execution_count": null,
   "id": "305201cd-22f1-454f-b42d-54c43d630d6e",
   "metadata": {},
   "outputs": [],
   "source": []
  }
 ],
 "metadata": {
  "kernelspec": {
   "display_name": "Python 3",
   "language": "python",
   "name": "python3"
  },
  "language_info": {
   "codemirror_mode": {
    "name": "ipython",
    "version": 3
   },
   "file_extension": ".py",
   "mimetype": "text/x-python",
   "name": "python",
   "nbconvert_exporter": "python",
   "pygments_lexer": "ipython3",
   "version": "3.9.1"
  }
 },
 "nbformat": 4,
 "nbformat_minor": 5
}
