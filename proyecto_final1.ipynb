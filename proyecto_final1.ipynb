{
 "cells": [
  {
   "cell_type": "markdown",
   "id": "7b2cfc99-60ae-4966-8506-f6858d975639",
   "metadata": {},
   "source": [
    "  # Analisis de datos en trabajadores activos"
   ]
  },
  {
   "cell_type": "markdown",
   "id": "dc65568e-5a93-4750-a997-83f854c7ad89",
   "metadata": {},
   "source": [
    "Este análisis es para ver como esta distribuido la población de trabajadores que cotizan para el issste y en que intervalo de edad esta \n",
    "concentrado y poner énfasis en el desarrollo de programas de atencion medica para este grupo de edad. "
   ]
  },
  {
   "cell_type": "code",
   "execution_count": null,
   "id": "89a4090d-2064-4ecb-b3b6-5529b8e51647",
   "metadata": {},
   "outputs": [],
   "source": [
    "from scipy import stats\n",
    "import pandas as pd\n",
    "import seaborn as sns\n",
    "import mysql.connector\n",
    "import matplotlib.pyplot as plt\n",
    "import datetime as dt"
   ]
  },
  {
   "cell_type": "markdown",
   "id": "073e6bb4-eeda-4b68-8ac8-d4d7d459617f",
   "metadata": {},
   "source": [
    "### Primera parte. Adquisicion del dataset"
   ]
  },
  {
   "cell_type": "markdown",
   "id": "4f135d5b-5c81-4d40-918b-d2f9ab52caca",
   "metadata": {},
   "source": [
    "Procedemos a conectarnos a la base de datos:"
   ]
  },
  {
   "cell_type": "code",
   "execution_count": null,
   "id": "99db8024-788b-4e0d-bbe7-87185f8bdc01",
   "metadata": {},
   "outputs": [],
   "source": [
    "cnx = mysql.connector.connect(\n",
    "    host=\"localhost\",\n",
    "    port=3306,\n",
    "    user=\"root\",\n",
    "    password=\"******\",\n",
    "    database=\"fuentes_brot\"\n",
    ")"
   ]
  },
  {
   "cell_type": "code",
   "execution_count": null,
   "id": "ef30702d-8952-4e4e-ab6f-db07e6cd94f7",
   "metadata": {},
   "outputs": [],
   "source": [
    "cursor = cnx.cursor()"
   ]
  },
  {
   "cell_type": "markdown",
   "id": "47cf6641-5bfd-4360-a962-f239e24c21f9",
   "metadata": {},
   "source": [
    "Y vemos que tablas contiene:"
   ]
  },
  {
   "cell_type": "code",
   "execution_count": null,
   "id": "c913f4c9-3314-4c86-ac86-b29aba6992a2",
   "metadata": {},
   "outputs": [],
   "source": [
    "pd.read_sql_query(\"show tables\", cnx)"
   ]
  },
  {
   "cell_type": "markdown",
   "id": "ff4ca408-cefd-4566-83d9-6191f74af505",
   "metadata": {},
   "source": [
    "Seleccionamos la de \"titulares_fb que es la que nos interesa y procedemos a ver el contenido:"
   ]
  },
  {
   "cell_type": "code",
   "execution_count": null,
   "id": "be95c5e3-dd2f-44ea-890f-37018f25be16",
   "metadata": {},
   "outputs": [],
   "source": [
    "df = pd.read_sql_query(\"SELECT CAP, FECHA_NACIMIENTO, APELLIDO_PATERNO, APELLIDO_MATERNO, NOMBRE, GENERO, TIPO_DE_DIRECTO, RAMO1, REGIMEN, ESTATUS, BENEFICIARIOS_REG from titulares_fb\", cnx)\n",
    "df"
   ]
  },
  {
   "cell_type": "markdown",
   "id": "c2292a53-c4c4-4c01-9e81-e102cc854bd7",
   "metadata": {},
   "source": [
    "Se genera dataframe llamado \"titulares_fb.csv\" y se cierra conexion:"
   ]
  },
  {
   "cell_type": "code",
   "execution_count": null,
   "id": "a665c77b-4cda-4971-b11d-40ad21737dc1",
   "metadata": {},
   "outputs": [],
   "source": [
    "df.to_csv('c:/users/dell/Documents/data analysis/modulo4/proyecto final1/titulares_fb.csv')"
   ]
  },
  {
   "cell_type": "code",
   "execution_count": null,
   "id": "c5256762-d4b6-4828-80d1-2a5a75350b5c",
   "metadata": {},
   "outputs": [],
   "source": [
    "cursor.close()"
   ]
  },
  {
   "cell_type": "markdown",
   "id": "f1544f39-7a7f-46fe-aa4a-d209cb55a8c4",
   "metadata": {},
   "source": [
    "## Segunda parte. Procesamiento de datos"
   ]
  },
  {
   "cell_type": "markdown",
   "id": "7405db5b-9b29-4727-8962-136e8cecd090",
   "metadata": {},
   "source": [
    "Teniendo el dataset con el que se va a trabajar se inicia con el procesamiento. Lo primero que se hace es abrir el dataset:"
   ]
  },
  {
   "cell_type": "code",
   "execution_count": null,
   "id": "4543a17f-c090-4720-a436-06782af4628b",
   "metadata": {},
   "outputs": [],
   "source": [
    "df_1 = pd.read_csv('c:/users/dell/Documents/data analysis/modulo4/proyecto final1/titulares_fb.csv')\n",
    "df_1"
   ]
  },
  {
   "cell_type": "markdown",
   "id": "88a5682d-2194-4ff1-93c7-6528f48472b5",
   "metadata": {},
   "source": [
    "primero se hace el reindexado:"
   ]
  },
  {
   "cell_type": "code",
   "execution_count": null,
   "id": "1ab91727-0a08-40ee-a899-8afeaaa46e08",
   "metadata": {},
   "outputs": [],
   "source": [
    "df_2 = df_1.set_index(pd.Series(range(1,424)))\n",
    "df_2"
   ]
  },
  {
   "cell_type": "markdown",
   "id": "53744b54-ea37-4ed0-b849-dfa0d6f782a1",
   "metadata": {},
   "source": [
    "Se ve que campos contiene el dataset:"
   ]
  },
  {
   "cell_type": "code",
   "execution_count": null,
   "id": "bbb9ea62-e610-43c8-9b66-7e0ae186cead",
   "metadata": {},
   "outputs": [],
   "source": [
    "df_2.columns"
   ]
  },
  {
   "cell_type": "markdown",
   "id": "83bd881b-a549-481f-bf07-e9c3557d326c",
   "metadata": {},
   "source": [
    "se procede a realizar el filtrado para generar un dataframe con solo trabajadores activos:"
   ]
  },
  {
   "cell_type": "code",
   "execution_count": null,
   "id": "3cc86885-9119-4545-a1c2-a48e862c6cc7",
   "metadata": {},
   "outputs": [],
   "source": [
    "trab = df_2[\"TIPO_DE_DIRECTO\"] == \"TRABAJADOR\"\n",
    "trab"
   ]
  },
  {
   "cell_type": "markdown",
   "id": "2ddb18bd-80de-497b-8a97-700cf8800a1d",
   "metadata": {},
   "source": [
    "para sacar los trabajadores activos se necesita hacer filtrado tambien por ramo:"
   ]
  },
  {
   "cell_type": "code",
   "execution_count": null,
   "id": "cefb5561-c464-4278-bf62-db89819a42e6",
   "metadata": {},
   "outputs": [],
   "source": [
    "trab1 = df_2[\"RAMO1\"] != \"CAJA DE PREV. PARA TRABS. A LISTA DE RAYA DEL GOB. DEL D.F.\"\n",
    "trab1"
   ]
  },
  {
   "cell_type": "code",
   "execution_count": null,
   "id": "9ba044f6-8f0f-4a0f-b85a-00b46685c459",
   "metadata": {},
   "outputs": [],
   "source": [
    "trab2 = df_2[\"RAMO1\"] != \"CONTINUACION VOLUNTARIA EN EL REGIMEN OBLIGATORIO\"\n",
    "trab2"
   ]
  },
  {
   "cell_type": "code",
   "execution_count": null,
   "id": "83b18bf1-54f5-4c6e-9b8a-a389a9f792ce",
   "metadata": {},
   "outputs": [],
   "source": [
    "trab3 = df_2[\"RAMO1\"] != \"PENS. Y JUB. DE LA CAJA DE PREV. DE LA POLICIA PREVENTIVA DE\"\n",
    "trab3"
   ]
  },
  {
   "cell_type": "code",
   "execution_count": null,
   "id": "a4979b82-77cb-4257-8037-c587fa1addb5",
   "metadata": {},
   "outputs": [],
   "source": [
    "trab4 = df_2[\"ESTATUS\"] == \"VIGENTE\"\n",
    "trab4"
   ]
  },
  {
   "cell_type": "code",
   "execution_count": null,
   "id": "b18a6f6c-9db9-4f9f-988a-59612a36080b",
   "metadata": {},
   "outputs": [],
   "source": [
    "trab5 = df_2[\"CAP\"] == \"NO\"\n",
    "trab5"
   ]
  },
  {
   "cell_type": "code",
   "execution_count": null,
   "id": "de3188b3-4c7c-497c-85dd-e452c49b842f",
   "metadata": {},
   "outputs": [],
   "source": [
    "tv = df_2[trab & trab1 & trab2 & trab3 & trab4 & trab5]\n",
    "tv"
   ]
  },
  {
   "cell_type": "code",
   "execution_count": null,
   "id": "5294cb6f-4a06-46b7-b636-869890ef544f",
   "metadata": {},
   "outputs": [],
   "source": [
    "tv.columns"
   ]
  },
  {
   "cell_type": "markdown",
   "id": "2bac9d36-b3fb-4128-8c9d-e3f69f87d901",
   "metadata": {},
   "source": [
    "Se procede a eliminar datos sensibles y no esenciales para el estudio:"
   ]
  },
  {
   "cell_type": "code",
   "execution_count": null,
   "id": "2102f686-9bfd-420c-b2be-12d8f1b22e11",
   "metadata": {},
   "outputs": [],
   "source": [
    "tv_1 = tv.drop(columns=[\"Unnamed: 0\", \"CAP\", \"APELLIDO_PATERNO\", \"APELLIDO_MATERNO\", \"NOMBRE\", \"TIPO_DE_DIRECTO\", \"RAMO1\", \"ESTATUS\"])\n",
    "tv_1"
   ]
  },
  {
   "cell_type": "markdown",
   "id": "7eae4fa4-0880-44cb-a86f-34a371a3adfd",
   "metadata": {},
   "source": [
    "Se necesita saber si hay datos nulos:"
   ]
  },
  {
   "cell_type": "code",
   "execution_count": null,
   "id": "105d6c14-ed60-4549-997c-96d88ec2e869",
   "metadata": {},
   "outputs": [],
   "source": [
    "tv_1.isna()"
   ]
  },
  {
   "cell_type": "markdown",
   "id": "0d46cc6f-b399-439b-9aa3-d4928c24934e",
   "metadata": {},
   "source": [
    "Y saber cuantos son:"
   ]
  },
  {
   "cell_type": "code",
   "execution_count": null,
   "id": "cb70c86e-d832-4c23-a8d9-ba9d0ce3b1af",
   "metadata": {},
   "outputs": [],
   "source": [
    "tv_1.isna().sum()"
   ]
  },
  {
   "cell_type": "markdown",
   "id": "d9f39f91-c24d-4568-8a51-fc9599b28114",
   "metadata": {},
   "source": [
    "lo siguiente es ver que tipo de variables contiene cada campo:"
   ]
  },
  {
   "cell_type": "code",
   "execution_count": null,
   "id": "da389509-7f52-4889-a77d-eb778247862a",
   "metadata": {},
   "outputs": [],
   "source": [
    "tv_1.dtypes"
   ]
  },
  {
   "cell_type": "markdown",
   "id": "66b6b4d8-7938-4e78-ab07-0dfb56fc7fbb",
   "metadata": {},
   "source": [
    "Como se observa el campo \"FECHA_NACIMIENTO\" hay que hacer cambio para que sea tipo datetime"
   ]
  },
  {
   "cell_type": "code",
   "execution_count": null,
   "id": "32fbd2bc-f4c1-4fa3-81bd-168c938730f9",
   "metadata": {},
   "outputs": [],
   "source": [
    "def nacimiento(valor):\n",
    "    return pd.to_datetime(valor)"
   ]
  },
  {
   "cell_type": "code",
   "execution_count": null,
   "id": "84ad4680-a256-4033-9efa-822800ec86c3",
   "metadata": {},
   "outputs": [],
   "source": [
    "tv_1[\"FECHA_NACIMIENTO\"] = tv_1[\"FECHA_NACIMIENTO\"].apply(nacimiento)\n",
    "tv_1"
   ]
  },
  {
   "cell_type": "markdown",
   "id": "6bc37153-a0f4-4d0b-a892-ed5838ecf3ca",
   "metadata": {},
   "source": [
    "Se verifica que se hizo la conversion:"
   ]
  },
  {
   "cell_type": "code",
   "execution_count": null,
   "id": "ce81d597-1e36-45d1-b8ea-7baa11ada5d0",
   "metadata": {},
   "outputs": [],
   "source": [
    "tv_1.dtypes"
   ]
  },
  {
   "cell_type": "markdown",
   "id": "6ae32458-46f9-45a2-bdcc-84ce695c08c4",
   "metadata": {},
   "source": [
    "Se necesita generar dos campos más, uno que muestre la edad y otro que menciona en que intervalo de edad se encuentra:"
   ]
  },
  {
   "cell_type": "code",
   "execution_count": null,
   "id": "78d82432-d780-4a7b-a9dd-fa803d9cddea",
   "metadata": {},
   "outputs": [],
   "source": [
    "def longevidad (valor):\n",
    "    hoy =dt.datetime.today()\n",
    "    return  hoy.year - valor.year - ((hoy.month, hoy.day) < (valor.month, valor.day))"
   ]
  },
  {
   "cell_type": "code",
   "execution_count": null,
   "id": "b4bf27ef-8310-429c-8980-014509908fd5",
   "metadata": {},
   "outputs": [],
   "source": [
    "tv_1[\"EDAD\"] = tv_1[\"FECHA_NACIMIENTO\"].apply(longevidad)\n",
    "tv_1"
   ]
  },
  {
   "cell_type": "code",
   "execution_count": null,
   "id": "134f2da6-ff3b-4104-8c60-ad105e109281",
   "metadata": {},
   "outputs": [],
   "source": [
    "etiqueta = ['21 a 30','31 a 40','41 a 50','51 a 60','61 a 70','71 a 80','81 a 90','91 a 100','100 y mas']\n",
    "tv_1['INTERVALO_EDAD'] = pd.cut(x = tv_1['EDAD'], bins = [20, 30, 40, 50, 60, 70, 80, 90 ,100, 110], labels = etiqueta)\n",
    "tv_1"
   ]
  },
  {
   "cell_type": "markdown",
   "id": "0a93f3e6-d78a-4fb9-a107-4278330e4af9",
   "metadata": {},
   "source": [
    "Checamos de nuevo los tipos de variable"
   ]
  },
  {
   "cell_type": "code",
   "execution_count": null,
   "id": "5d216d99-e6cb-43fe-8c22-10dbd70ac87c",
   "metadata": {},
   "outputs": [],
   "source": [
    "tv_1.dtypes"
   ]
  },
  {
   "cell_type": "markdown",
   "id": "3275a7ba-aa3d-4a22-aeb0-f7bc6e595694",
   "metadata": {},
   "source": [
    "Se tiene el dataset que se necesita para hacer el análisis de datos"
   ]
  },
  {
   "cell_type": "markdown",
   "id": "048a83cd-90dd-4d5c-9788-86320611ddf8",
   "metadata": {},
   "source": [
    "### Tercera parte. Análisis de datos"
   ]
  },
  {
   "cell_type": "markdown",
   "id": "d61dd075-aef3-4a36-8583-b9bea5e482f5",
   "metadata": {},
   "source": [
    "Teniendo ya el dataset que se necesita se procede a sacar primero la grafica para la cantidad de trabajadores por genero:"
   ]
  },
  {
   "cell_type": "code",
   "execution_count": null,
   "id": "44375611-40c5-4f39-94c4-87609e455d7e",
   "metadata": {},
   "outputs": [],
   "source": [
    "tv_2 = tv_1\n",
    "counts = tv_1['GENERO'].value_counts() \n",
    "counts"
   ]
  },
  {
   "cell_type": "code",
   "execution_count": null,
   "id": "bf4e3558-a526-477f-93d0-3406d4793cf0",
   "metadata": {},
   "outputs": [],
   "source": [
    "sns.set_theme(style = 'whitegrid')\n",
    "ax = sns.barplot(x=counts.index, y=counts)\n",
    "ax.set_title('Poblacion de trabajadores activos por genero', fontsize=15, pad=5)\n",
    "ax.set(ylabel='conteo');\n",
    "ax.set(xlabel='genero');\n",
    "ax.set_xticklabels(ax.get_xticklabels(), rotation=70);"
   ]
  },
  {
   "cell_type": "markdown",
   "id": "1959c2a6-8b9e-4dbd-bda6-3797a010af2e",
   "metadata": {},
   "source": [
    "En porcentaje sería:"
   ]
  },
  {
   "cell_type": "code",
   "execution_count": null,
   "id": "5c4ea914-784c-4bb8-b84f-e29084434bf4",
   "metadata": {},
   "outputs": [],
   "source": [
    "porcentaje = counts * 100 / counts.sum()\n",
    "porcentaje"
   ]
  },
  {
   "cell_type": "code",
   "execution_count": null,
   "id": "bae13f59-4dde-4f62-8461-404fd223bfc5",
   "metadata": {},
   "outputs": [],
   "source": [
    "sns.set_theme(style = 'whitegrid')\n",
    "ax = sns.barplot(x=porcentaje.index, y=porcentaje)\n",
    "ax.set_title('Poblacion de trabajadores activos por genero (%)', fontsize=15, pad=5)\n",
    "ax.set(ylabel='%');\n",
    "ax.set(xlabel='genero');\n",
    "ax.set_xticklabels(ax.get_xticklabels(), rotation=70);"
   ]
  },
  {
   "cell_type": "markdown",
   "id": "0399e1bd-99a5-4d6b-9f9a-a43e3387a75f",
   "metadata": {},
   "source": [
    "Ahora queremos saber en que intervalos de edad estan distribuidos los trajajadores"
   ]
  },
  {
   "cell_type": "code",
   "execution_count": null,
   "id": "32ffe50e-e6c5-4510-8dce-18cf25af60b1",
   "metadata": {},
   "outputs": [],
   "source": [
    "counts_1 = tv_2['INTERVALO_EDAD'].value_counts()\n",
    "counts_1"
   ]
  },
  {
   "cell_type": "code",
   "execution_count": null,
   "id": "f4e120ed-6f5a-408c-81df-eb0fbe8d7c0c",
   "metadata": {},
   "outputs": [],
   "source": [
    "ax = plt.subplots(figsize=(10, 6))\n",
    "ax = sns.barplot(x= counts_1.index, y= counts_1)\n",
    "ax.set_title('Distribución de trabajadores activos por intervalo de edades', fontsize=15, pad=5)\n",
    "ax.set(xlabel='rango de edades');\n",
    "ax.set(ylabel='conteo');"
   ]
  },
  {
   "cell_type": "markdown",
   "id": "81c56aa4-17ab-4063-a293-8c99a5696eb8",
   "metadata": {},
   "source": [
    "Esta misma dsitribución se muestra ahora por genero:"
   ]
  },
  {
   "cell_type": "code",
   "execution_count": null,
   "id": "72fb652b-9762-4483-9fc3-475750f18871",
   "metadata": {},
   "outputs": [],
   "source": [
    "tv_2['count'] = 1\n",
    "tv_2"
   ]
  },
  {
   "cell_type": "code",
   "execution_count": null,
   "id": "a5e6bcb8-8b5e-478c-858b-350957cad152",
   "metadata": {},
   "outputs": [],
   "source": [
    "counts_2 = tv_2.groupby(['INTERVALO_EDAD', 'GENERO'])['count'].sum()\n",
    "counts_2"
   ]
  },
  {
   "cell_type": "code",
   "execution_count": null,
   "id": "e4ae1e79-ac0d-4e6e-8fda-44ad65811100",
   "metadata": {},
   "outputs": [],
   "source": [
    "counts_2 = counts_2.unstack(1)\n",
    "counts_2"
   ]
  },
  {
   "cell_type": "code",
   "execution_count": null,
   "id": "1a1fb585-85a4-4059-bb4e-7eba92eaa217",
   "metadata": {},
   "outputs": [],
   "source": [
    "plt.style.use('seaborn')\n",
    "\n",
    "fig = plt.figure(figsize=(10, 5))\n",
    "ax = fig.add_subplot()\n",
    "\n",
    "plt1 = ax.bar(counts_2.index, counts_2['HOMBRE'], label='HOMBRE')\n",
    "plt2 = ax.bar(counts_2.index, counts_2['MUJER'], bottom= counts_2['HOMBRE'])\n",
    "\n",
    "ax.set_ylabel('conteo')\n",
    "ax.set_title('Número de beneficiarios segun intervalos de edad y genero', fontsize=15, pad=5);\n",
    "plt.legend((plt1[0], plt2[0]), ('Hombre', 'Mujer'));\n",
    "ax.set_ylim(0, 70);"
   ]
  },
  {
   "cell_type": "markdown",
   "id": "38d26895-21c3-45e2-9814-674e55a98a1a",
   "metadata": {},
   "source": [
    "Le sacamos l media, la media truncada y la mediana para saber en que edad anda la poblacion de trabajadores activos"
   ]
  },
  {
   "cell_type": "code",
   "execution_count": null,
   "id": "31248bf0-085e-4d4f-8116-5b15497e03a1",
   "metadata": {},
   "outputs": [],
   "source": [
    "mt = stats.trim_mean(tv_2[\"EDAD\"], 0.1)\n",
    "print(f'La media truncada es: {mt:,.2f} años ')"
   ]
  },
  {
   "cell_type": "code",
   "execution_count": null,
   "id": "e8cba7b8-7af4-4b38-aa5e-8b93fac1d7dc",
   "metadata": {},
   "outputs": [],
   "source": [
    "media = tv_2[\"EDAD\"].mean()\n",
    "print(f'La media es: {media:,.2f} años ')"
   ]
  },
  {
   "cell_type": "code",
   "execution_count": null,
   "id": "32a82b1e-2548-4f60-8c9d-920690a54a7d",
   "metadata": {},
   "outputs": [],
   "source": [
    "media = tv_2[\"EDAD\"].median()\n",
    "\n",
    "print(f'La mediana es: {media:,.2f} años ')"
   ]
  },
  {
   "cell_type": "code",
   "execution_count": null,
   "id": "0cc77bbe-513b-43a9-a931-46b5251d8356",
   "metadata": {},
   "outputs": [],
   "source": [
    "print(f'La desviación estandar es: { tv_2[\"EDAD\"].std()}')"
   ]
  },
  {
   "cell_type": "code",
   "execution_count": null,
   "id": "c0fed50f-ccf4-40d1-9c7f-49e09438b6a8",
   "metadata": {},
   "outputs": [],
   "source": [
    "tv_2[\"EDAD\"].mode()"
   ]
  },
  {
   "cell_type": "code",
   "execution_count": null,
   "id": "e20f4f8c-988e-4702-869f-7aa4e7c6b814",
   "metadata": {},
   "outputs": [],
   "source": [
    "print(f'Valor mínimo: {tv_2[\"EDAD\"].min()}')\n",
    "print(f'Percentil 0: {tv_2[\"EDAD\"].quantile(0)}')\n",
    "print(f'Percentil 10: {tv_2[\"EDAD\"].quantile(0.1)}')\n",
    "print(f'Percentil 25: {tv_2[\"EDAD\"].quantile(0.25)}')\n",
    "print(f'Percentil 50: {tv_2[\"EDAD\"].median()}')\n",
    "print(f'Mediana: {tv_2[\"EDAD\"].quantile(0.5)}')\n",
    "print(f'Percentil 75: {tv_2[\"EDAD\"].quantile(0.75)}')\n",
    "print(f'Percentil 90: {tv_2[\"EDAD\"].quantile(0.9)}')\n",
    "print(f'Percentil 100: {tv_2[\"EDAD\"].quantile(1)}')\n",
    "print(f'Valor máximo: {tv_2[\"EDAD\"].max()}')"
   ]
  },
  {
   "cell_type": "code",
   "execution_count": null,
   "id": "e9c6bcaa-d625-49fa-82fb-efa613caa765",
   "metadata": {},
   "outputs": [],
   "source": [
    "print(f'El rango intercuartilico se encuentra en: {tv_2[\"EDAD\"].quantile(0.75) - tv_2[\"EDAD\"].quantile(0.25)}')"
   ]
  },
  {
   "cell_type": "markdown",
   "id": "9a4801c3-015d-4eb7-a9d4-2e5ea5c966c1",
   "metadata": {},
   "source": [
    "Se realiza un boxplot para ver como estan distribuidos los cuartiles:"
   ]
  },
  {
   "cell_type": "code",
   "execution_count": null,
   "id": "35710854-3540-4528-bf02-0180656535f4",
   "metadata": {},
   "outputs": [],
   "source": [
    "sns.set(style=\"whitegrid\")\n",
    "sns.boxplot(x=tv_2[\"EDAD\"])\n",
    "plt.axvline(tv_2[\"EDAD\"].mean(), c='r');"
   ]
  },
  {
   "cell_type": "markdown",
   "id": "2f95f9a2-15dc-4da5-8b8b-cd802536ab07",
   "metadata": {},
   "source": [
    "Como se ve en el boxplot la mediana y media estan casi a la par y no hay valores atipicos el el dataset. Por último queremos ver cual es la correlación entre la edad de los trabajdores y el número de beneficiarios registrados por estos."
   ]
  },
  {
   "cell_type": "code",
   "execution_count": null,
   "id": "1116d0dc-d1ec-4ed6-af07-cf138fc1978c",
   "metadata": {},
   "outputs": [],
   "source": [
    "sns.set(style=\"whitegrid\")\n",
    "plt.scatter(x=tv_2['EDAD'], y= tv_2['BENEFICIARIOS_REG'], c='m');"
   ]
  },
  {
   "cell_type": "code",
   "execution_count": null,
   "id": "41dfd2ed-c12a-4563-898d-9ec55d1f1b04",
   "metadata": {},
   "outputs": [],
   "source": [
    "relacion = tv_2['EDAD'].corr(tv_2['BENEFICIARIOS_REG'] )\n",
    "print(f'Correlación entre las edad y beneficiaros dados de alta: { relacion }' )"
   ]
  },
  {
   "cell_type": "markdown",
   "id": "0931e42f-4e22-487e-a2bf-d80764b373a2",
   "metadata": {},
   "source": [
    "## Conclusiones:"
   ]
  },
  {
   "cell_type": "markdown",
   "id": "2e27e3b9-317f-43b6-aa08-b552a63bc6fb",
   "metadata": {},
   "source": [
    "El dataset que se utilizo fue construido manualmente y hasta el momento no ha sido terminado, pero permitió dar un pequeño bosquejo sobre \n",
    "el intervalo en edades en la que esta actualmente la clinica en donde se labora, y en un futuro terminado poder mostrar datos más realistas.\n"
   ]
  },
  {
   "cell_type": "code",
   "execution_count": null,
   "id": "305201cd-22f1-454f-b42d-54c43d630d6e",
   "metadata": {},
   "outputs": [],
   "source": []
  }
 ],
 "metadata": {
  "kernelspec": {
   "display_name": "Python 3",
   "language": "python",
   "name": "python3"
  },
  "language_info": {
   "codemirror_mode": {
    "name": "ipython",
    "version": 3
   },
   "file_extension": ".py",
   "mimetype": "text/x-python",
   "name": "python",
   "nbconvert_exporter": "python",
   "pygments_lexer": "ipython3",
   "version": "3.9.1"
  }
 },
 "nbformat": 4,
 "nbformat_minor": 5
}
